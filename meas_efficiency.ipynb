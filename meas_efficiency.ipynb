{
 "cells": [
  {
   "cell_type": "code",
   "execution_count": null,
   "metadata": {},
   "outputs": [],
   "source": [
    "import warnings\n",
    "warnings.filterwarnings(\"ignore\")\n",
    "\n",
    "import numpy as np\n",
    "import scipy\n",
    "import h5py\n",
    "import json\n",
    "import os\n",
    "from pathlib import Path\n",
    "from quantify_core.data.handling import set_datadir, get_tuids_containing, extract_parameter_from_snapshot, load_snapshot, load_quantities_of_interest, load_dataset, to_gridded_dataset, load_processed_dataset\n",
    "import matplotlib.pyplot as plt\n",
    "from lmfit.models import GaussianModel\n",
    "from sklearn.decomposition import PCA\n",
    "from SSRO_functions import *\n",
    "from matplotlib.legend_handler import HandlerTuple\n",
    "import pandas as pd\n",
    "import matplotlib as mpl\n",
    "%matplotlib inline\n",
    "from matplotlib.colors import PowerNorm, ListedColormap\n",
    "import matplotlib.gridspec as gridspec\n",
    "\n",
    "# Set quantify data directory\n",
    "set_datadir(\"O:\\FPA_RO_Data\")"
   ]
  },
  {
   "cell_type": "code",
   "execution_count": null,
   "metadata": {},
   "outputs": [],
   "source": [
    "# Choose colormap\n",
    "cmap_blue = plt.cm.Blues\n",
    "cmap_red = plt.cm.Reds\n",
    "cmap_green = plt.cm.Greens\n",
    "cmap_purple = plt.cm.Purples\n",
    "cmap_orange = plt.cm.Oranges\n",
    "\n",
    "# Get the colormap colors\n",
    "cmap_blue = cmap_blue(np.arange(plt.cm.Blues.N))\n",
    "cmap_red = cmap_red(np.arange(plt.cm.Reds.N))\n",
    "cmap_green = cmap_green(np.arange(plt.cm.Greens.N))\n",
    "cmap_purple = cmap_purple(np.arange(plt.cm.Purples.N))\n",
    "cmap_orange = cmap_orange(np.arange(plt.cm.Oranges.N))\n",
    "\n",
    "# Set alpha\n",
    "cmap_blue[:,-1] = np.linspace(0, 1, plt.cm.Blues.N)\n",
    "cmap_red[:,-1] = np.linspace(0, 1, plt.cm.Reds.N)\n",
    "cmap_green[:,-1] = np.linspace(0, 1, plt.cm.Greens.N)\n",
    "cmap_purple[:,-1] = np.linspace(0, 1, plt.cm.Purples.N)\n",
    "cmap_orange[:,-1] = np.linspace(0, 1, plt.cm.Oranges.N)\n",
    "\n",
    "# Create new colormap\n",
    "cmap_blue = ListedColormap(cmap_blue)\n",
    "cmap_red = ListedColormap(cmap_red)\n",
    "cmap_green = ListedColormap(cmap_green)\n",
    "cmap_purple = ListedColormap(cmap_purple)\n",
    "cmap_orange = ListedColormap(cmap_orange)"
   ]
  },
  {
   "cell_type": "code",
   "execution_count": null,
   "metadata": {},
   "outputs": [],
   "source": [
    "from matplotlib import cm\n",
    "from matplotlib.colors import ListedColormap, LinearSegmentedColormap\n",
    "blues = cm.get_cmap('Blues', 10)\n",
    "greens = cm.get_cmap('Greens', 10)\n",
    "oranges = cm.get_cmap('Oranges', 10)\n",
    "purples = cm.get_cmap('Purples', 10)\n",
    "reds = cm.get_cmap('Reds', 10)"
   ]
  },
  {
   "cell_type": "code",
   "execution_count": null,
   "metadata": {},
   "outputs": [],
   "source": [
    "SMALL_SIZE = 12\n",
    "MEDIUM_SIZE = 14\n",
    "BIGGER_SIZE = 16\n",
    "\n",
    "plt.rc('font', size=SMALL_SIZE)          # controls default text sizes\n",
    "plt.rc('axes', titlesize=SMALL_SIZE)     # fontsize of the axes title\n",
    "plt.rc('axes', labelsize=MEDIUM_SIZE)    # fontsize of the x and y labels\n",
    "plt.rc('xtick', labelsize=SMALL_SIZE)    # fontsize of the tick labels\n",
    "plt.rc('ytick', labelsize=SMALL_SIZE)    # fontsize of the tick labels\n",
    "plt.rc('legend', fontsize=SMALL_SIZE)    # legend fontsize\n",
    "plt.rc('figure', titlesize=BIGGER_SIZE)"
   ]
  },
  {
   "cell_type": "markdown",
   "metadata": {},
   "source": [
    "# Get SSRO vs drive amplitude\n"
   ]
  },
  {
   "cell_type": "code",
   "execution_count": null,
   "metadata": {},
   "outputs": [],
   "source": [
    "tuid_ssro = get_tuids_containing('SSRO FX8', t_start='20231129-220122', t_stop='20231129-221053')"
   ]
  },
  {
   "cell_type": "code",
   "execution_count": null,
   "metadata": {},
   "outputs": [],
   "source": [
    "epsilon = [] #V\n",
    "snr = []\n",
    "\n",
    "for i,tuid in enumerate(tuid_ssro):\n",
    "    snapshot = load_snapshot(tuid)\n",
    "    pulse_amp = extract_parameter_from_snapshot(snapshot, \"FX8.measure_conventional.pulse_amp\")['value']\n",
    "    epsilon.append(pulse_amp)\n",
    "    _snr, _error = get_paperdef_snr_error(tuid)\n",
    "    snr.append(_snr)"
   ]
  },
  {
   "cell_type": "code",
   "execution_count": null,
   "metadata": {},
   "outputs": [],
   "source": [
    "#fit with linear curve\n",
    "p0 = [0.5/0.015] #initial guess\n",
    "popt,_ = curve_fit(lin_fit, epsilon, snr, p0=p0)"
   ]
  },
  {
   "cell_type": "markdown",
   "metadata": {},
   "source": [
    "# Get coherence vs drive amplitude"
   ]
  },
  {
   "cell_type": "code",
   "execution_count": null,
   "metadata": {},
   "outputs": [],
   "source": [
    "tuid_coherence = load_processed_dataset(tuid='20231129-203933', analysis_name='RamseyVsPulseAmplitudeAnalysis')\n",
    "coherence = np.array(tuid_coherence.coherence)\n",
    "drive_amps = np.array(tuid_coherence.unique_amps)"
   ]
  },
  {
   "cell_type": "code",
   "execution_count": null,
   "metadata": {},
   "outputs": [],
   "source": [
    "#fit with gaussian\n",
    "p0 = [0.175, 0.05] #initial guess\n",
    "popt2,_ = scipy.optimize.curve_fit(coherence_decay, drive_amps, coherence, p0=p0)"
   ]
  },
  {
   "cell_type": "code",
   "execution_count": null,
   "metadata": {},
   "outputs": [],
   "source": [
    "fig, ax = plt.subplots(ncols=1, nrows=1, dpi=250)\n",
    "\n",
    "fig.subplots_adjust(bottom = 0.16, top=0.99, left=0.19, right=0.9, wspace=0.4, hspace=0.3)\n",
    "\n",
    "fig.set_size_inches(7/2, 2)\n",
    "ax1 = ax\n",
    "# ax2 = ax[1]\n",
    "\n",
    "tick_fs = 9\n",
    "label_fs = 10\n",
    "lw = 1.5\n",
    "\n",
    "coherence_data=cmap_red(0.9)\n",
    "coherence_fit=cmap_red(0.6)\n",
    "snr_data=cmap_blue(0.9)\n",
    "snr_fit=cmap_blue(0.6)\n",
    "\n",
    "ax1.set_xlim(epsilon[0]*10**3, epsilon[-1]*10**3)\n",
    "ax1.set_ylim(0, 0.55)\n",
    "ax2 = ax1.twinx()\n",
    "ax1.set_ylabel(r\"SNR\", color=cmap_blue(0.9), fontsize=label_fs)\n",
    "ax2.set_ylabel(r\"Coherence $|\\rho_{10}|$\", color=cmap_red(0.9), fontsize=label_fs)\n",
    "ax1.set_xlabel(r\"Drive Amplitude, $\\epsilon$ (mV)\", fontsize=label_fs)\n",
    "ax1.set_yticks([0.2, 0.4], labels=['0.2', '0.4'], fontsize=tick_fs)\n",
    "ax1.set_xticks([0, 5, 10], labels=['0', '5', '10'], fontsize=tick_fs)\n",
    "ax2.set_yticks([0.05, 0.10, 0.15], labels=['0.05', '0.10', '0.15'], fontsize=tick_fs)\n",
    "ax1.arrow(x=4, y=0.2, dx=-3, dy=0, width=0.003, head_length=0.2, color=snr_data)\n",
    "ax1.arrow(x=10.75, y=0.2, dx=3, dy=0, width=0.003, head_length=0.2, color=coherence_data)\n",
    "a, = ax2.plot(np.array(drive_amps)*10**(3), coherence, linestyle='', marker='.', markersize=6, color=coherence_data)\n",
    "b, = ax2.plot(np.array(drive_amps)*10**(3), coherence_decay(drive_amps, *popt2), linestyle=\"-\", linewidth=1.5, color=coherence_fit)\n",
    "c, = ax.plot(np.array(epsilon)*10**(3), lin_fit(np.array(epsilon), *popt), linestyle='-', linewidth=1.5, color=snr_fit)\n",
    "d, = ax.plot(np.array(epsilon)*10**(3), snr, marker='.', linestyle=' ', markersize=6, color=snr_data)\n",
    "l = ax2.legend([(a, d), (b, c)], [r\"Data\", r\"Fit\"],\n",
    "               handler_map={tuple: HandlerTuple(ndivide=None)}, handletextpad=0.6, frameon=False, handlelength = 1.4, fontsize = tick_fs, labelspacing=0.3, \n",
    "               loc='lower left', bbox_to_anchor=(0.37, -0.05))"
   ]
  },
  {
   "cell_type": "markdown",
   "metadata": {},
   "source": [
    "# Measurement efficiency and photon number"
   ]
  },
  {
   "cell_type": "markdown",
   "metadata": {},
   "source": [
    "## Extract $\\eta$"
   ]
  },
  {
   "cell_type": "code",
   "execution_count": null,
   "metadata": {},
   "outputs": [],
   "source": [
    "a = popt[0]\n",
    "sigma = popt2[1]\n",
    "meas_efficiency = (a**2 * sigma**2)\n",
    "print(meas_efficiency)"
   ]
  },
  {
   "cell_type": "markdown",
   "metadata": {},
   "source": [
    "## Extract $\\bar{n}$"
   ]
  },
  {
   "cell_type": "code",
   "execution_count": null,
   "metadata": {},
   "outputs": [],
   "source": [
    "df1 = pd.read_csv(r'res_fit_results.csv')\n",
    "\n",
    "#phi_exts\n",
    "phi_ext_disshift = df1['phi_ext_disshift'].to_numpy()\n",
    "phi_ext_disshift = phi_ext_disshift[~np.isnan(phi_ext_disshift)]\n",
    "\n",
    "#resonator frequencies (GHz)\n",
    "frs_0_all = df1['fr_q0'].to_numpy()\n",
    "frs_0_all = frs_0_all[~np.isnan(frs_0_all)]\n",
    "frs_1_all = df1['fr_q1'].to_numpy()\n",
    "frs_1_all = frs_1_all[~np.isnan(frs_1_all)]\n",
    "kappa = df1['kappa_avg'].to_numpy()\n",
    "kappa = kappa[~np.isnan(kappa)]\n",
    "\n",
    "#chi (MHz)\n",
    "chi_exp = df1['chi'].to_numpy()\n",
    "chi_exp = chi_exp[~np.isnan(chi_exp)]"
   ]
  },
  {
   "cell_type": "code",
   "execution_count": null,
   "metadata": {},
   "outputs": [],
   "source": [
    "total_time = (34/15)+1.52\n",
    "on_time = (34/15)\n",
    "off_time = 1.52\n",
    "\n",
    "meas_strength = 0.4"
   ]
  },
  {
   "cell_type": "code",
   "execution_count": null,
   "metadata": {},
   "outputs": [],
   "source": [
    "meas_strength = [0.1, 0.15, 0.2, 0.3, 0.4]\n",
    "nbar = []\n",
    "nmax = []\n",
    "for i in meas_strength:\n",
    "    avg_n = (2*np.pi*kappa[0]*i**2)/(32*(sigma**2)*((2*np.pi*chi_exp[0])**2)*total_time)\n",
    "    max_n = avg_n*(total_time/on_time)\n",
    "    nbar.append(avg_n)\n",
    "    nmax.append(max_n)"
   ]
  },
  {
   "cell_type": "code",
   "execution_count": null,
   "metadata": {},
   "outputs": [],
   "source": [
    "meas_strength = 0.4\n",
    "avg_photons = ((2*np.pi*kappa[0])*meas_strength**2)/(32*(sigma**2)*((2*np.pi*chi_exp[0])**2)*total_time)\n",
    "max_photons = avg_photons*(total_time/on_time)"
   ]
  },
  {
   "cell_type": "code",
   "execution_count": null,
   "metadata": {},
   "outputs": [],
   "source": [
    "print(nbar)\n",
    "print(nmax)"
   ]
  },
  {
   "cell_type": "markdown",
   "metadata": {},
   "source": [
    "# Import and plot flux pulse amp calibration"
   ]
  },
  {
   "cell_type": "code",
   "execution_count": null,
   "metadata": {},
   "outputs": [],
   "source": [
    "df1 = pd.read_csv(r'res_fit_results.csv')\n",
    "\n",
    "#phi_exts\n",
    "phi_ext_disshift = df1['phi_ext_disshift'].to_numpy()\n",
    "phi_ext_disshift = phi_ext_disshift[~np.isnan(phi_ext_disshift)]\n",
    "\n",
    "#resonator frequencies (GHz)\n",
    "frs_0_all = df1['fr_q0'].to_numpy()\n",
    "frs_0_all = frs_0_all[~np.isnan(frs_0_all)]\n",
    "frs_1_all = df1['fr_q1'].to_numpy()\n",
    "frs_1_all = frs_1_all[~np.isnan(frs_1_all)]\n",
    "kappa = df1['kappa_avg'].to_numpy()\n",
    "kappa = kappa[~np.isnan(kappa)]\n",
    "\n",
    "#chi (MHz)\n",
    "chi_exp = df1['chi'].to_numpy()\n",
    "chi_exp = chi_exp[~np.isnan(chi_exp)]\n",
    "\n",
    "#resonator frequency vs AC flux pulse amplitude\n",
    "fp_amp = df1['flux_pulse_amp'].to_numpy()\n",
    "fp_amp = fp_amp[~np.isnan(fp_amp)]\n",
    "\n",
    "fr_q0_fp = df1['fr_q0_flux_pulse'].to_numpy()\n",
    "fr_q0_fp = fr_q0_fp[~np.isnan(fr_q0_fp)]"
   ]
  },
  {
   "cell_type": "code",
   "execution_count": null,
   "metadata": {},
   "outputs": [],
   "source": [
    "fig = plt.figure(figsize=(3.40457, 1.75))\n",
    "\n",
    "gs = gridspec.GridSpec(1, 2, width_ratios=[1, 1.5], wspace=0.35, hspace=0.38, bottom = 0.18, top=0.81, left=0.14, right=0.86,)\n",
    "\n",
    "label_fs = 7\n",
    "tick_fs = 7\n",
    "legend_fs = 6\n",
    "\n",
    "ax = plt.subplot(gs[0, 0])\n",
    "\n",
    "ax.set_xlim(0.5, 0.7)\n",
    "ax2 = ax.twiny()\n",
    "ax2.set_xlim(0, 0.1155)\n",
    "ax.set_ylim(5.170, 5.185)\n",
    "\n",
    "ax.set_yticks([5.17, 5.18], labels=['5.17', '5.18'], fontsize=tick_fs)\n",
    "ax2.set_xticks([0.0, 0.05, 0.10], labels=['0', '0.05', '0.10'], fontsize=tick_fs)\n",
    "ax.set_xticks([0.5, 0.6, 0.7], labels=['0.5', '0.6', '0.7'], fontsize=tick_fs)\n",
    "ax.tick_params(axis='x', pad=1, labelsize=tick_fs)\n",
    "ax.tick_params(axis='y', pad=1, labelsize=tick_fs)\n",
    "ax2.tick_params(axis='x', pad=1, labelsize=tick_fs)\n",
    "\n",
    "\n",
    "ax.set_ylabel(r'$\\omega_{r}/2\\pi$ (GHz)', color='black', fontsize=label_fs, labelpad=1)\n",
    "ax.set_xlabel(r\"$\\Phi_{ext}/\\Phi_{0}$\", color='black', fontsize=label_fs, labelpad=1)\n",
    "ax2.set_xlabel('Pulse Amp. (au)', fontsize=label_fs)\n",
    "\n",
    "ax2.plot(fp_amp, fr_q0_fp*10**(-9), ls='', marker='x', markersize=5, color=cmap_orange(0.6), label='Flux pulse')\n",
    "ax.plot(phi_ext_disshift, frs_0_all, linestyle='', marker='.', markersize=4, color=cmap_red(0.8), label='DC bias', zorder=2)\n",
    "\n",
    "ax2.legend(handletextpad=0.3, frameon=False, handlelength = 1.3, fontsize = legend_fs, labelspacing=0.5, \n",
    "               loc='lower left', bbox_to_anchor=(-0.02, 0.74))\n",
    "ax.legend(handletextpad=0.3, frameon=False, handlelength = 1.3, fontsize = legend_fs, labelspacing=0.5, \n",
    "               loc='lower left', bbox_to_anchor=(-0.02, 0.83), markerscale=1.5)\n",
    "ax.annotate(\"(a)\", xy=(-0.24, 0.94), xycoords=\"axes fraction\", fontsize=label_fs)\n",
    "\n",
    "\n",
    "coherence_data=cmap_red(0.9)\n",
    "coherence_fit=cmap_red(0.6)\n",
    "snr_data=cmap_blue(0.9)\n",
    "snr_fit=cmap_blue(0.6)\n",
    "\n",
    "ax3 = plt.subplot(gs[0, 1])\n",
    "ax3.set_xlim(epsilon[0]*10**3, epsilon[-1]*10**3)\n",
    "ax3.set_ylim(0, 0.55)\n",
    "ax4 = ax3.twinx()\n",
    "ax3.set_ylabel(r\"SNR\", color=cmap_blue(0.9), fontsize=label_fs, labelpad=1)\n",
    "ax4.set_ylabel(r\"Coherence $|\\rho_{10}|$\", color=cmap_red(0.9), fontsize=label_fs, labelpad=1)\n",
    "ax3.set_xlabel(r\"Drive Amp., $\\epsilon$ (mV)\", fontsize=label_fs, labelpad=1)\n",
    "ax3.set_yticks([0.2, 0.4], labels=['0.2', '0.4'], fontsize=tick_fs)\n",
    "ax3.set_xticks([0, 5, 10], labels=['0', '5', '10'], fontsize=tick_fs)\n",
    "ax4.set_yticks([0.05, 0.10, 0.15], labels=['0.05', '0.10', '0.15'], fontsize=tick_fs)\n",
    "ax3.tick_params(axis='y', pad=1, labelsize=tick_fs)\n",
    "ax3.tick_params(axis='x', pad=1, labelsize=tick_fs)\n",
    "ax4.tick_params(axis='y', pad=1, labelsize=tick_fs)\n",
    "ax3.arrow(x=4, y=0.2, dx=-3, dy=0, width=0.003, head_length=0.2, color=snr_data)\n",
    "ax3.arrow(x=10.75, y=0.2, dx=3, dy=0, width=0.003, head_length=0.2, color=coherence_data)\n",
    "a, = ax4.plot(np.array(drive_amps)*10**(3), coherence, linestyle='', marker='.', markersize=6, color=coherence_data)\n",
    "b, = ax4.plot(np.array(drive_amps)*10**(3), coherence_decay(drive_amps, *popt2), linestyle=\"-\", linewidth=1.5, color=coherence_fit)\n",
    "c, = ax3.plot(np.array(epsilon)*10**(3), lin_fit(np.array(epsilon), *popt), linestyle='-', linewidth=1.5, color=snr_fit)\n",
    "d, = ax3.plot(np.array(epsilon)*10**(3), snr, marker='.', linestyle=' ', markersize=6, color=snr_data)\n",
    "l = ax4.legend([(a, d), (b, c)], [r\"Data\", r\"Fit\"],\n",
    "               handler_map={tuple: HandlerTuple(ndivide=None)}, handletextpad=0.6, frameon=False, handlelength = 1.4, fontsize = tick_fs, labelspacing=0.3, \n",
    "               loc='lower left', bbox_to_anchor=(0.28, -0.05))\n",
    "ax3.annotate(\"(b)\", xy=(-0.15, 0.94), xycoords=\"axes fraction\", fontsize=label_fs)\n",
    "\n",
    "plt.tight_layout()"
   ]
  }
 ],
 "metadata": {
  "kernelspec": {
   "display_name": "Python 3 (ipykernel)",
   "language": "python",
   "name": "python3"
  },
  "language_info": {
   "codemirror_mode": {
    "name": "ipython",
    "version": 3
   },
   "file_extension": ".py",
   "mimetype": "text/x-python",
   "name": "python",
   "nbconvert_exporter": "python",
   "pygments_lexer": "ipython3",
   "version": "3.8.8"
  },
  "toc": {
   "base_numbering": 1,
   "nav_menu": {},
   "number_sections": true,
   "sideBar": true,
   "skip_h1_title": false,
   "title_cell": "Table of Contents",
   "title_sidebar": "Contents",
   "toc_cell": false,
   "toc_position": {},
   "toc_section_display": true,
   "toc_window_display": true
  }
 },
 "nbformat": 4,
 "nbformat_minor": 2
}
