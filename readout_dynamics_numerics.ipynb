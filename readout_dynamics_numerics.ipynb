{
 "cells": [
  {
   "cell_type": "markdown",
   "metadata": {},
   "source": [
    "# Imports and definitions"
   ]
  },
  {
   "cell_type": "code",
   "execution_count": null,
   "metadata": {},
   "outputs": [],
   "source": [
    "import numpy as np\n",
    "import qutip as qtp\n",
    "import math\n",
    "import cmath\n",
    "import matplotlib.pyplot as plt\n",
    "from qutip import *\n",
    "from tqdm.notebook import tqdm\n",
    "from scipy import interpolate\n",
    "from scipy.integrate import solve_ivp\n",
    "from scipy.integrate import quad\n",
    "%matplotlib inline\n",
    "import matplotlib.colors as colors\n",
    "import matplotlib as mpl\n",
    "from matplotlib import cm\n",
    "from matplotlib.colors import ListedColormap, LinearSegmentedColormap\n",
    "blues = mpl.colormaps['Blues']\n",
    "reds = mpl.colormaps['Reds']\n",
    "import scqubits as scq\n",
    "from scipy import constants\n",
    "import pandas as pd\n",
    "from matplotlib.legend_handler import HandlerTuple"
   ]
  },
  {
   "cell_type": "code",
   "execution_count": null,
   "metadata": {},
   "outputs": [],
   "source": [
    "from matplotlib.colors import PowerNorm, ListedColormap\n",
    "# Choose colormap\n",
    "cmap_blue = plt.cm.Blues\n",
    "cmap_red = plt.cm.Reds\n",
    "cmap_green = plt.cm.Greens\n",
    "cmap_purple = plt.cm.Purples\n",
    "cmap_orange = plt.cm.Oranges\n",
    "\n",
    "# Get the colormap colors\n",
    "cmap_blue = cmap_blue(np.arange(plt.cm.Blues.N))\n",
    "cmap_red = cmap_red(np.arange(plt.cm.Reds.N))\n",
    "cmap_green = cmap_green(np.arange(plt.cm.Greens.N))\n",
    "cmap_purple = cmap_purple(np.arange(plt.cm.Purples.N))\n",
    "cmap_orange = cmap_orange(np.arange(plt.cm.Oranges.N))\n",
    "\n",
    "# Set alpha\n",
    "cmap_blue[:,-1] = np.linspace(0, 1, plt.cm.Blues.N)\n",
    "cmap_red[:,-1] = np.linspace(0, 1, plt.cm.Reds.N)\n",
    "cmap_green[:,-1] = np.linspace(0, 1, plt.cm.Greens.N)\n",
    "cmap_purple[:,-1] = np.linspace(0, 1, plt.cm.Purples.N)\n",
    "cmap_orange[:,-1] = np.linspace(0, 1, plt.cm.Oranges.N)\n",
    "\n",
    "# Create new colormap\n",
    "cmap_blue = ListedColormap(cmap_blue)\n",
    "cmap_red = ListedColormap(cmap_red)\n",
    "cmap_green = ListedColormap(cmap_green)\n",
    "cmap_purple = ListedColormap(cmap_purple)\n",
    "cmap_orange = ListedColormap(cmap_orange)"
   ]
  },
  {
   "cell_type": "markdown",
   "metadata": {},
   "source": [
    "## Import data"
   ]
  },
  {
   "cell_type": "code",
   "execution_count": null,
   "metadata": {},
   "outputs": [],
   "source": [
    "df = pd.read_csv(r'processed_data_fx8.csv')\n",
    "\n",
    "#Fitted energy parameters - E_osc, g, Ej, Ec, El\n",
    "energy_params = df['energy_params'].to_numpy()\n",
    "energy_params = energy_params[~np.isnan(energy_params)]\n",
    "\n",
    "df1 = pd.read_csv(r'res_fit_results.csv')\n",
    "\n",
    "#phi_exts\n",
    "phi_ext_disshift = df1['phi_ext_disshift'].to_numpy()\n",
    "phi_ext_disshift = phi_ext_disshift[~np.isnan(phi_ext_disshift)]\n",
    "\n",
    "#resonator params (GHz)\n",
    "#frequency with qubit in |0>\n",
    "frs_0_all = df1['fr_q0'].to_numpy()\n",
    "frs_0_all = frs_0_all[~np.isnan(frs_0_all)]\n",
    "#frequency with qubit in |1>\n",
    "frs_1_all = df1['fr_q1'].to_numpy()\n",
    "frs_1_all = frs_1_all[~np.isnan(frs_1_all)]\n",
    "#resonator linewidth\n",
    "kappa_exp = df1['kappa_avg'].to_numpy()\n",
    "kappa_exp = kappa_exp[~np.isnan(kappa_exp)]\n",
    "\n",
    "#chi (MHz)\n",
    "chi_exp = df1['chi'].to_numpy()\n",
    "chi_exp = chi_exp[~np.isnan(chi_exp)]\n",
    "\n",
    "#resonator frequency with qubit in |0> and flux pulse amplitude\n",
    "fp_amp = df1['flux_pulse_amp'].to_numpy()\n",
    "fp_amp = fp_amp[~np.isnan(fp_amp)]\n",
    "\n",
    "fr_q0_fp = df1['fr_q0_flux_pulse'].to_numpy()\n",
    "fr_q0_fp = fr_q0_fp[~np.isnan(fr_q0_fp)]"
   ]
  },
  {
   "cell_type": "code",
   "execution_count": null,
   "metadata": {},
   "outputs": [],
   "source": [
    "df = pd.read_csv(r'RO.csv')\n",
    "\n",
    "#RO at sweet spot\n",
    "#assignment error\n",
    "raw_error_ss = df['RawErrorSS'].to_numpy()\n",
    "raw_error_ss = raw_error_ss[~np.isnan(raw_error_ss)]\n",
    "#SNR-limited error\n",
    "SNR_error_ss = df['DiscrErrorSS'].to_numpy()\n",
    "SNR_error_ss = SNR_error_ss[~np.isnan(SNR_error_ss)]\n",
    "#integration time\n",
    "t_ss = df['TimesSS'].to_numpy()\n",
    "t_ss = t_ss[~np.isnan(t_ss)]\n",
    "#readout frequency\n",
    "ROfreq_ss = df['ROFreqSS'].to_numpy()\n",
    "ROfreq_ss = ROfreq_ss[~np.isnan(ROfreq_ss)]\n",
    "\n",
    "#RO with FPA scheme\n",
    "#assignment error\n",
    "raw_error_fpa = df['RawErrorFPA'].to_numpy()\n",
    "raw_error_fpa = raw_error_fpa[~np.isnan(raw_error_fpa)]\n",
    "#SNR-limited error\n",
    "SNR_error_fpa = df['DiscrErrorFPA'].to_numpy()\n",
    "SNR_error_fpa = SNR_error_fpa[~np.isnan(SNR_error_fpa)]\n",
    "#integration time\n",
    "t_fpa = df['TimesFPA'].to_numpy()\n",
    "t_fpa = t_fpa[~np.isnan(t_fpa)]\n",
    "#readout frequency\n",
    "ROfreq_fpa = df['ROFreqFPA'].to_numpy()\n",
    "ROfreq_fpa = ROfreq_fpa[~np.isnan(ROfreq_fpa)]"
   ]
  },
  {
   "cell_type": "markdown",
   "metadata": {},
   "source": [
    "# Look at $\\chi$, $\\omega_{r}$, and $\\Phi_{ext}$ in range of interest"
   ]
  },
  {
   "cell_type": "markdown",
   "metadata": {},
   "source": [
    "## Dispersive shift at $\\Phi_{ext}/\\Phi_{0}$ = 0.6567\n",
    "uses linear interpolation between nearest neighboring data points"
   ]
  },
  {
   "cell_type": "code",
   "execution_count": null,
   "metadata": {},
   "outputs": [],
   "source": [
    "x1 = phi_ext_disshift[66]\n",
    "x2 = phi_ext_disshift[67]\n",
    "y1 = chi_exp[66]\n",
    "y2 = chi_exp[67]\n",
    "\n",
    "m = (y2-y1)/(x2-x1)\n",
    "b = y1 - (m*x1)\n",
    "\n",
    "ro_chi = m*0.6567 + b\n",
    "ro_chi"
   ]
  },
  {
   "cell_type": "code",
   "execution_count": null,
   "metadata": {},
   "outputs": [],
   "source": [
    "phi_trunc = np.array(phi_ext_disshift[:67])\n",
    "chi_trunc = np.array(chi_exp[:67])\n",
    "phi_trunc = np.append(phi_trunc, 0.6567)\n",
    "chi_trunc = np.append(chi_trunc, ro_chi)"
   ]
  },
  {
   "cell_type": "markdown",
   "metadata": {},
   "source": [
    "## Defines time points during ramp"
   ]
  },
  {
   "cell_type": "code",
   "execution_count": null,
   "metadata": {},
   "outputs": [],
   "source": [
    "slope = 0.050/(phi_trunc[-1] - phi_trunc[0])\n",
    "b = -1*(slope*phi_trunc[0])\n",
    "\n",
    "t_ramping = []\n",
    "for i in phi_trunc:\n",
    "    t_ramping.append(i*slope + b)"
   ]
  },
  {
   "cell_type": "markdown",
   "metadata": {},
   "source": [
    "## Resonator frequency\n",
    "uses linear interpolation between nearest neighboring data points"
   ]
  },
  {
   "cell_type": "code",
   "execution_count": null,
   "metadata": {},
   "outputs": [],
   "source": [
    "frs_0_MHz = np.array(frs_0_all)*10**3\n",
    "frs_1_MHz = np.array(frs_1_all)*10**3"
   ]
  },
  {
   "cell_type": "code",
   "execution_count": null,
   "metadata": {},
   "outputs": [],
   "source": [
    "x1 = phi_ext_disshift[66]\n",
    "x2 = phi_ext_disshift[67]\n",
    "y1 = frs_0_MHz[66]\n",
    "y2 = frs_0_MHz[67]\n",
    "\n",
    "m = (y2-y1)/(x2-x1)\n",
    "b = y1 - (m*x1)\n",
    "\n",
    "fr0_ro = m*0.6567 + b\n",
    "fr0_ro #resonator frequency at readout point with qubit in |0>, not readout frequency"
   ]
  },
  {
   "cell_type": "code",
   "execution_count": null,
   "metadata": {},
   "outputs": [],
   "source": [
    "x1 = phi_ext_disshift[66]\n",
    "x2 = phi_ext_disshift[67]\n",
    "y1 = frs_1_MHz[66]\n",
    "y2 = frs_1_MHz[67]\n",
    "\n",
    "m = (y2-y1)/(x2-x1)\n",
    "b = y1 - (m*x1)\n",
    "\n",
    "fr1_ro = m*0.6567 + b\n",
    "fr1_ro #resonator frequency at readout point with qubit in |1>, not readout frequency"
   ]
  },
  {
   "cell_type": "markdown",
   "metadata": {},
   "source": [
    "## Range of values during flux pulse ramp"
   ]
  },
  {
   "cell_type": "code",
   "execution_count": null,
   "metadata": {},
   "outputs": [],
   "source": [
    "frs_0_MHz_trunc = np.array(frs_0_MHz[:67])\n",
    "frs_1_MHz_trunc = np.array(frs_1_MHz[:67])\n",
    "frs_0_MHz_trunc = np.append(frs_0_MHz_trunc, fr0_ro)\n",
    "frs_1_MHz_trunc = np.append(frs_1_MHz_trunc, fr1_ro)"
   ]
  },
  {
   "cell_type": "code",
   "execution_count": null,
   "metadata": {},
   "outputs": [],
   "source": [
    "fr_drive_MHz = ROfreq_fpa[0]*10**(-6) #readout frequenecy used in experiment"
   ]
  },
  {
   "cell_type": "code",
   "execution_count": null,
   "metadata": {},
   "outputs": [],
   "source": [
    "#frequency between resonator with qubit in |0> and resonator with qubit in |1>\n",
    "mid_freq_MHz = []\n",
    "for i in range(len(frs_0_MHz_trunc)):\n",
    "    mid_freq_MHz.append((frs_0_MHz_trunc[i]+frs_1_MHz_trunc[i])/2)"
   ]
  },
  {
   "cell_type": "markdown",
   "metadata": {},
   "source": [
    "## Define global variables"
   ]
  },
  {
   "cell_type": "code",
   "execution_count": null,
   "metadata": {},
   "outputs": [],
   "source": [
    "kappa = 2 * np.pi * kappa_exp[0] #resonator linewidith, 2*pi*MHz"
   ]
  },
  {
   "cell_type": "code",
   "execution_count": null,
   "metadata": {},
   "outputs": [],
   "source": [
    "chi_SS = 2 * np.pi * chi_trunc[0] #2*pi*MHz\n",
    "chi_RO = 2 * np.pi * chi_trunc[-1] #2*pi*MHz, chosen to be at Phi_ext/Phi_0 = 0.6567 based on measured data"
   ]
  },
  {
   "cell_type": "code",
   "execution_count": null,
   "metadata": {},
   "outputs": [],
   "source": [
    "omega_drive = 2 * np.pi * fr_drive_MHz #2*pi*MHz\n",
    "omega_0ss = 2 * np.pi * frs_0_MHz_trunc\n",
    "omega_1ss = 2 * np.pi * frs_1_MHz_trunc"
   ]
  },
  {
   "cell_type": "code",
   "execution_count": null,
   "metadata": {},
   "outputs": [],
   "source": [
    "Delta0 = []\n",
    "Delta1 = []\n",
    "for i in range(len(mid_freq_MHz)):\n",
    "    d0 = 2*np.pi*(mid_freq_MHz[i]-fr_drive_MHz) - 2*np.pi*chi_trunc[i]\n",
    "    d1 = 2*np.pi*(mid_freq_MHz[i]-fr_drive_MHz) + 2*np.pi*chi_trunc[i]\n",
    "    Delta0.append(d0)\n",
    "    Delta1.append(d1)"
   ]
  },
  {
   "cell_type": "markdown",
   "metadata": {},
   "source": [
    "# Use numerics to get SNR at sweet-spot"
   ]
  },
  {
   "cell_type": "code",
   "execution_count": null,
   "metadata": {},
   "outputs": [],
   "source": [
    "n_readout = 75 #average cavity photon number\n",
    "tau = np.linspace(0.001, 1, 101) #integration time\n",
    "#epsilon\n",
    "ep_arg = (1/(Delta0[0]**2 + (kappa**2/4))) + (1/(Delta1[0]**2 + (kappa**2/4)))\n",
    "ep = np.sqrt((2*n_readout)/(ep_arg))"
   ]
  },
  {
   "cell_type": "code",
   "execution_count": null,
   "metadata": {},
   "outputs": [],
   "source": [
    "#solve differential equation to get alpha for two eigenstates (|0>, |1>)\n",
    "def alphadot_0(alpha, time):\n",
    "    dalpha0dt = 1j * chi_SS * alpha - (1/2) * kappa * alpha + ep\n",
    "    return dalpha0dt\n",
    "\n",
    "def alphadot_1(alpha, time):\n",
    "    dalpha1dt = -1j * chi_SS * alpha - (1/2) * kappa * alpha + ep\n",
    "    return dalpha1dt\n",
    "\n",
    "alpha_init = [0+0j]\n",
    "\n",
    "sol_alpha0 = solve_ivp(lambda time, alpha: alphadot_0(alpha, time), [tau[0], tau[-1]], alpha_init, t_eval=tau)\n",
    "sol_alpha1 = solve_ivp(lambda time, alpha: alphadot_1(alpha, time), [tau[0], tau[-1]], alpha_init, t_eval=tau)\n",
    "\n",
    "alpha0solution = sol_alpha0.y[0]\n",
    "alpha1solution = sol_alpha1.y[0]"
   ]
  },
  {
   "cell_type": "code",
   "execution_count": null,
   "metadata": {},
   "outputs": [],
   "source": [
    "alpha_out_0 = []\n",
    "alpha_out_1 = []\n",
    "\n",
    "#calculation of alpha_out from alpha and alpha_in\n",
    "for i, a in enumerate(alpha0solution):\n",
    "    aout0 = (ep / math.sqrt(kappa)) + math.sqrt(kappa) * a\n",
    "    alpha_out_0.append(aout0)\n",
    "\n",
    "for j, b in enumerate(alpha1solution):\n",
    "    aout1 = (ep / math.sqrt(kappa)) + math.sqrt(kappa) * b\n",
    "    alpha_out_1.append(aout1)\n",
    "    \n",
    "aout0_func = interpolate.interp1d(tau, alpha_out_0, fill_value=\"extrapolate\")\n",
    "aout1_func = interpolate.interp1d(tau, alpha_out_1, fill_value=\"extrapolate\")\n",
    "\n",
    "rawSNR_ss = []\n",
    "\n",
    "#numerical integration to get SNR\n",
    "for t in tau:\n",
    "    M = []\n",
    "    one = []\n",
    "    zero = []\n",
    "    tpts = np.linspace(0,t,1001)\n",
    "    for i in tpts:\n",
    "        alpha_zero = aout0_func(i)\n",
    "        alpha_one = aout1_func(i)\n",
    "        M.append(alpha_zero-alpha_one)\n",
    "    SNRnumerator = np.sqrt(kappa)*abs(np.trapz(M))*np.diff(tpts)[0]\n",
    "    SNRdenominator = math.sqrt(kappa * t)\n",
    "    SNR = SNRnumerator / SNRdenominator\n",
    "    rawSNR_ss.append(SNR)"
   ]
  },
  {
   "cell_type": "markdown",
   "metadata": {},
   "source": [
    "## Include $\\eta = 6.04\\%$"
   ]
  },
  {
   "cell_type": "code",
   "execution_count": null,
   "metadata": {},
   "outputs": [],
   "source": [
    "error_ss = []\n",
    "error_loweff_ss = []\n",
    "eta = 0.0604\n",
    "\n",
    "for i in rawSNR_ss:\n",
    "    error = (math.erfc(i/2)/2)\n",
    "    error_ss.append(error)\n",
    "    snr_low_eta = np.sqrt(eta)*i\n",
    "    error_low_eta = (math.erfc(snr_low_eta/2)/2)\n",
    "    error_loweff_ss.append(error_low_eta)"
   ]
  },
  {
   "cell_type": "code",
   "execution_count": null,
   "metadata": {},
   "outputs": [],
   "source": [
    "fig, ax = plt.subplots(ncols=1, nrows=1, dpi=250)\n",
    "\n",
    "fig.subplots_adjust(bottom = 0.16, top=0.99, left=0.19, right=0.9, wspace=0.4, hspace=0.3)\n",
    "\n",
    "fig.set_size_inches(7/2, 2)\n",
    "ax1 = ax\n",
    "\n",
    "tick_fs = 9\n",
    "label_fs = 10\n",
    "lw = 1.5\n",
    "\n",
    "###\n",
    "raw_static, = ax1.plot(t_ss, raw_error_ss, color=cmap_red(0.7), linestyle='', marker='.', markersize=6, label=r'SS, Assign.(raw)')\n",
    "\n",
    "# numerics\n",
    "ax1.plot(np.array(tau)*10**3+40, error_loweff_ss, color=cmap_red(0.5), linestyle='--')\n",
    "\n",
    "# data\n",
    "snr_lim_static, = ax1.plot(t_ss, SNR_error_ss, color=cmap_red(0.9), linestyle='', marker='+', markersize=6, label=r'SS, SNR-limited')\n",
    "ax1.tick_params(axis='y', pad=3, labelsize=tick_fs)\n",
    "ax1.tick_params(axis='x', pad=3, labelsize=tick_fs)\n",
    "ax1.set_yscale('log')\n",
    "ax1.set_xlim(100, 360)\n",
    "ax1.set_ylim(0.009, 1)\n",
    "ax1.set_xlabel('Integration Time (ns)', fontsize=label_fs)\n",
    "ax1.set_ylabel('Readout Error', fontsize=label_fs, labelpad=2)\n",
    "ax1.legend(handletextpad=0.25, frameon=False, handlelength = 1.0, fontsize = tick_fs, labelspacing=0.3, \n",
    "               loc='lower left', bbox_to_anchor=(-0.03, -0.05))"
   ]
  },
  {
   "cell_type": "markdown",
   "metadata": {},
   "source": [
    "# Use numerics to get SNR with FPA readout"
   ]
  },
  {
   "cell_type": "markdown",
   "metadata": {},
   "source": [
    "## Solve Langevin equation analytically during 50 ns flux pulse ramping to get $\\alpha$"
   ]
  },
  {
   "cell_type": "code",
   "execution_count": null,
   "metadata": {},
   "outputs": [],
   "source": [
    "Delta0_func_t = interpolate.interp1d(t_ramping, Delta0, fill_value=\"extrapolate\")\n",
    "Delta1_func_t = interpolate.interp1d(t_ramping, Delta1, fill_value=\"extrapolate\")"
   ]
  },
  {
   "cell_type": "code",
   "execution_count": null,
   "metadata": {},
   "outputs": [],
   "source": [
    "#solve differential equation to get alpha for two eigenstates (|0>, |1>)\n",
    "def alphadot_0(alpha, time):\n",
    "    dalpha0dt = 1j * Delta0_func_t(time) * alpha - (1/2) * kappa * alpha + ep\n",
    "    return dalpha0dt\n",
    "\n",
    "def alphadot_1(alpha, time):\n",
    "    dalpha1dt = -1j * Delta1_func_t(time) * alpha - (1/2) * kappa * alpha + ep\n",
    "    return dalpha1dt\n",
    "\n",
    "alpha_init = [0+0j]\n",
    "\n",
    "sol_alpha0 = solve_ivp(lambda time, alpha: alphadot_0(alpha, time), [t_ramping[0], t_ramping[-1]], alpha_init, t_eval=t_ramping)\n",
    "sol_alpha1 = solve_ivp(lambda time, alpha: alphadot_1(alpha, time), [t_ramping[0], t_ramping[-1]], alpha_init, t_eval=t_ramping)\n",
    "\n",
    "alpha0solution = sol_alpha0.y[0]\n",
    "alpha1solution = sol_alpha1.y[0]"
   ]
  },
  {
   "cell_type": "markdown",
   "metadata": {},
   "source": [
    "## Transformation of $\\alpha$ to $\\alpha_{out}$ using interpolation during flux pulse ramp"
   ]
  },
  {
   "cell_type": "code",
   "execution_count": null,
   "metadata": {},
   "outputs": [],
   "source": [
    "alpha_out_0 = []\n",
    "alpha_out_1 = []\n",
    "\n",
    "#calculation of alpha_out from alpha and alpha_in\n",
    "for i, a in enumerate(alpha0solution):\n",
    "    aout0 = (-ep / math.sqrt(kappa)) + math.sqrt(kappa) * a\n",
    "    alpha_out_0.append(aout0)\n",
    "\n",
    "for j, b in enumerate(alpha1solution):\n",
    "    aout1 = (-ep / math.sqrt(kappa)) + math.sqrt(kappa) * b\n",
    "    alpha_out_1.append(aout1)\n",
    "    \n",
    "aout0_func = interpolate.interp1d(t_ramping, alpha_out_0, fill_value=\"extrapolate\")\n",
    "aout1_func = interpolate.interp1d(t_ramping, alpha_out_1, fill_value=\"extrapolate\")\n",
    "\n",
    "rawSNR_ramp = []\n",
    "\n",
    "#integration to get measurement operator which allows for calculation of SNR\n",
    "for t in t_ramping:\n",
    "    M_ramp = []\n",
    "    tpts = np.linspace(0,t,1001)\n",
    "    for i in tpts:\n",
    "        alpha_zero = aout0_func(i)\n",
    "        alpha_one = aout1_func(i)\n",
    "        M_ramp.append(alpha_zero-alpha_one)\n",
    "    SNRnumerator = np.sqrt(kappa)*abs(np.trapz(M_ramp))*np.diff(tpts)[0]\n",
    "    SNRdenominator = math.sqrt(kappa * t)\n",
    "    SNR_ramp = SNRnumerator / SNRdenominator\n",
    "    rawSNR_ramp.append(SNR_ramp)"
   ]
  },
  {
   "cell_type": "markdown",
   "metadata": {},
   "source": [
    "## Solve Langevin equation for $\\alpha$ and calculate SNR after flux pulse has reached its maximum amplitude at $\\Phi_{ext}/\\Phi_{0}$ = 0.6567"
   ]
  },
  {
   "cell_type": "code",
   "execution_count": null,
   "metadata": {},
   "outputs": [],
   "source": [
    "def alphadot_0_fp(alpha, time): #while flux pulse is on, keeping qubit at readout point\n",
    "    dalpha0dt_fp = 1j * Delta0[-1] * alpha - (1/2) * kappa * alpha + ep\n",
    "    return dalpha0dt_fp\n",
    "\n",
    "def alphadot_1_fp(alpha, time): #after flux pulse ramp\n",
    "    dalpha1dt_fp = -1j * Delta1[-1] * alpha - (1/2) * kappa * alpha + ep\n",
    "    return dalpha1dt_fp\n",
    "\n",
    "#initial point defined as last point during flux pulse ramp\n",
    "alpha_init_0 = [alpha0solution[-1]]\n",
    "alpha_init_1 = [alpha1solution[-1]]\n",
    "\n",
    "t_fp = np.linspace(t_ramping[-1], 1, 1901) #once flux pulse has reached max amplitude, up to 1 us\n",
    "\n",
    "#solve differential equation to get alpha\n",
    "sol_alpha0_fp = solve_ivp(lambda time, alpha: alphadot_0_fp(alpha, time), [t_fp[0], t_fp[-1]], alpha_init_0, t_eval=t_fp)\n",
    "sol_alpha1_fp = solve_ivp(lambda time, alpha: alphadot_1_fp(alpha, time), [t_fp[0], t_fp[-1]], alpha_init_1, t_eval=t_fp)\n",
    "\n",
    "alpha0solution_fp = sol_alpha0_fp.y[0]\n",
    "alpha1solution_fp = sol_alpha1_fp.y[0]\n",
    "\n",
    "aout0 = []\n",
    "aout1 = []\n",
    "\n",
    "#calculation of alpha_out from alpha and alpha_in\n",
    "for a in alpha0solution_fp:\n",
    "    alphaout0 = (-ep / math.sqrt(kappa)) + math.sqrt(kappa) * a\n",
    "    aout0.append(alphaout0)\n",
    "\n",
    "for b in alpha1solution_fp:\n",
    "    alphaout1 = (-ep / math.sqrt(kappa)) + math.sqrt(kappa) * b\n",
    "    aout1.append(alphaout1)\n",
    "    \n",
    "aout0_func_fp = interpolate.interp1d(t_fp, aout0, fill_value=\"extrapolate\")\n",
    "aout1_func_fp = interpolate.interp1d(t_fp, aout1, fill_value=\"extrapolate\")\n",
    "\n",
    "rawSNR_fp = []\n",
    "\n",
    "#integration to get measurement operator which allows for calculation of SNR during flux pulse at max amplitude\n",
    "for t in t_fp:\n",
    "    M = []\n",
    "    tps = np.linspace(0,t,1001)\n",
    "    for tp in tps:\n",
    "        alpha_zero = aout0_func_fp(tp) if tp>0.05 else aout0_func(tp)\n",
    "        alpha_one = aout1_func_fp(tp) if tp>0.05 else aout1_func(tp)\n",
    "        M.append(alpha_zero-alpha_one)\n",
    "    SNRnum = np.sqrt(kappa) * abs(np.trapz(M)*np.diff(tps)[0])\n",
    "    SNRdenom = math.sqrt(kappa * t)\n",
    "    SNR = SNRnum / SNRdenom\n",
    "    rawSNR_fp.append(SNR)\n",
    "\n",
    "#concatenate time and SNR arrays to capture during and after flux pulse\n",
    "totalTime = np.concatenate((t_ramping, t_fp))\n",
    "totalRawSNR = np.concatenate((rawSNR_ramp, rawSNR_fp))"
   ]
  },
  {
   "cell_type": "markdown",
   "metadata": {},
   "source": [
    "# Conversion to readout error and visualization"
   ]
  },
  {
   "cell_type": "code",
   "execution_count": null,
   "metadata": {},
   "outputs": [],
   "source": [
    "eta = 0.0604\n",
    "snr_loweff_fpa = np.sqrt(eta)*totalRawSNR\n",
    "\n",
    "error_loweff_fpa = []\n",
    "\n",
    "for i in snr_loweff_fpa:\n",
    "    error = (math.erfc(i/2)/2)\n",
    "    error_loweff_fpa.append(error)\n",
    "\n",
    "error_loweff_ss = []\n",
    "for i in rawSNR_ss:\n",
    "    snr_low_eta = np.sqrt(eta)*i\n",
    "    error_low_eta = (math.erfc(snr_low_eta/2)/2)\n",
    "    error_loweff_ss.append(error_low_eta)"
   ]
  },
  {
   "cell_type": "code",
   "execution_count": null,
   "metadata": {},
   "outputs": [],
   "source": [
    "fig, ax = plt.subplots(ncols=1, nrows=1, dpi=250)\n",
    "\n",
    "fig.subplots_adjust(bottom = 0.16, top=0.99, left=0.19, right=0.9, wspace=0.4, hspace=0.3)\n",
    "\n",
    "fig.set_size_inches(7/2, 2)\n",
    "ax1 = ax\n",
    "\n",
    "tick_fs = 9\n",
    "label_fs = 10\n",
    "lw = 1.5\n",
    "\n",
    "# numerics, 40ns offset to account for difference in measurement acquisition times\n",
    "ax1.plot(np.array(tau)*10**3+40, error_loweff_ss, color=cmap_orange(0.9), linestyle='--')\n",
    "ax1.plot(np.array(totalTime)*10**3+40, error_loweff_fpa, color=cmap_purple(0.9), linestyle='--')\n",
    "\n",
    "# data\n",
    "snr_lim_static, = ax1.plot(t_ss, SNR_error_ss, color=cmap_red(0.9), linestyle='', marker='+', markersize=6, label=r'SS, SNR-limited')\n",
    "snr_lim_fpa, = ax1.plot(t_fpa, SNR_error_fpa, color=cmap_blue(0.9), linestyle='', marker='+', markersize=6, label=r'FPA, SNR-limited')\n",
    "ax1.tick_params(axis='y', pad=3, labelsize=tick_fs)\n",
    "ax1.tick_params(axis='x', pad=3, labelsize=tick_fs)\n",
    "ax1.set_yscale('log')\n",
    "ax1.set_xlim(100, 360)\n",
    "ax1.set_ylim(0.009, 1)\n",
    "ax1.set_xlabel('Integration Time (ns)', fontsize=label_fs)\n",
    "ax1.set_ylabel('Readout Error', fontsize=label_fs, labelpad=2)\n",
    "ax1.legend(handletextpad=0.25, frameon=False, handlelength = 1.0, fontsize = tick_fs, labelspacing=0.3, \n",
    "               loc='lower left', bbox_to_anchor=(-0.03, -0.05))"
   ]
  },
  {
   "cell_type": "code",
   "execution_count": null,
   "metadata": {},
   "outputs": [],
   "source": [
    "fig, ax = plt.subplots(ncols=1, nrows=1, dpi=250, sharex=True)\n",
    "\n",
    "fig.subplots_adjust(bottom = 0.1, top=0.9, left=0.12, right=0.8, wspace=0.4, hspace=0.25)\n",
    "fig.set_size_inches(3.40457, 2.25)\n",
    "font = {'size' : 8}\n",
    "mpl.rc('font', **font)\n",
    "\n",
    "label_fs = 8\n",
    "tick_fs = 8\n",
    "legend_fs = 8\n",
    "\n",
    "lw = 2\n",
    "\n",
    "num_static, = ax.plot(np.array(tau)*10**3+40, error_loweff_ss, color=cmap_red(0.6), linestyle='--', lw=lw, label=r'SS, Numerics')\n",
    "num_fpa, = ax.plot(np.array(totalTime)*10**3+40, error_loweff_fpa, color=cmap_blue(0.6), linestyle='--', lw=lw, label=r'FPA, Numerics')\n",
    "\n",
    "raw_static, = ax.plot(t_ss, raw_error_ss, color=cmap_red(0.7), linestyle='', marker='.', markersize=6, label=r'SS, Assign.(raw)')\n",
    "raw_fpa, = ax.plot(t_fpa, raw_error_fpa, color=cmap_blue(0.7), linestyle='', marker='.', markersize=6, label=r'FPA, Assign.(raw)')\n",
    "snr_lim_static, = ax.plot(t_ss, SNR_error_ss, color=cmap_red(0.9), linestyle='', marker='+', markersize=6, label=r'SS, SNR-limited')\n",
    "snr_lim_fpa, = ax.plot(t_fpa, SNR_error_fpa, color=cmap_blue(0.9), linestyle='', marker='+', markersize=6, label=r'FPA, SNR-limited')\n",
    "ax.tick_params(axis='y', pad=2, labelsize=tick_fs)\n",
    "ax.tick_params(axis='x', pad=3, labelsize=tick_fs)\n",
    "ax.set_yscale('log')\n",
    "ax.set_xlim(100, 360)\n",
    "ax.set_ylim(0.0005, 1)\n",
    "ax.set_xlabel('Integration Time (ns)', fontsize=label_fs)\n",
    "ax.set_ylabel('Readout Error', fontsize=label_fs, labelpad=2)\n",
    "txt1 = ax.annotate(r'SS', xy=(4.5,36) , size=legend_fs, xycoords=\"axes points\", color=cmap_red(0.9))\n",
    "txt2 = ax.annotate(r'FPA', xy=(20,36) , size=legend_fs, xycoords=\"axes points\", color=cmap_blue(0.9))\n",
    "l = ax.legend([(num_static, num_fpa), (raw_static, raw_fpa), (snr_lim_static, snr_lim_fpa)], [r\"Numerics\", r\"Assign.(raw)\", r\"SNR-limited\"],\n",
    "               handler_map={tuple: HandlerTuple(ndivide=None)}, handletextpad=0.6, frameon=False, handlelength = 4, fontsize = tick_fs, labelspacing=0.5, \n",
    "               loc='lower left', bbox_to_anchor=(-0.02, -0.03))\n",
    "plt.tight_layout()"
   ]
  }
 ],
 "metadata": {
  "kernelspec": {
   "display_name": "Python 3 (ipykernel)",
   "language": "python",
   "name": "python3"
  },
  "language_info": {
   "codemirror_mode": {
    "name": "ipython",
    "version": 3
   },
   "file_extension": ".py",
   "mimetype": "text/x-python",
   "name": "python",
   "nbconvert_exporter": "python",
   "pygments_lexer": "ipython3",
   "version": "3.8.8"
  },
  "toc": {
   "base_numbering": 1,
   "nav_menu": {},
   "number_sections": true,
   "sideBar": true,
   "skip_h1_title": false,
   "title_cell": "Table of Contents",
   "title_sidebar": "Contents",
   "toc_cell": false,
   "toc_position": {
    "height": "calc(100% - 180px)",
    "left": "10px",
    "top": "150px",
    "width": "384px"
   },
   "toc_section_display": true,
   "toc_window_display": true
  }
 },
 "nbformat": 4,
 "nbformat_minor": 4
}
