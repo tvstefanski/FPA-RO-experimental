{
 "cells": [
  {
   "cell_type": "markdown",
   "id": "ecd25243",
   "metadata": {},
   "source": [
    "# Imports"
   ]
  },
  {
   "cell_type": "code",
   "execution_count": null,
   "id": "5e155f68",
   "metadata": {},
   "outputs": [],
   "source": [
    "import warnings\n",
    "warnings.filterwarnings(\"ignore\")\n",
    "import numpy as np\n",
    "import h5py\n",
    "import json\n",
    "import os\n",
    "from pathlib import Path\n",
    "from quantify_core.data.handling import set_datadir, get_tuids_containing, extract_parameter_from_snapshot, load_snapshot, load_quantities_of_interest, load_dataset, to_gridded_dataset, load_processed_dataset\n",
    "import matplotlib as mpl\n",
    "import matplotlib.pyplot as plt\n",
    "from scipy.optimize import curve_fit\n",
    "from scipy.interpolate import interp1d\n",
    "from sklearn.decomposition import PCA\n",
    "from lmfit.models import GaussianModel\n",
    "from matplotlib.colors import PowerNorm, ListedColormap\n",
    "from matplotlib.legend_handler import HandlerTuple\n",
    "from scipy.stats import norm\n",
    "from scipy.signal import find_peaks\n",
    "import math\n",
    "from scipy.optimize import minimize_scalar\n",
    "from typing import List, Union\n",
    "import xarray as xr\n",
    "import re\n",
    "import itertools\n",
    "from SSRO_functions import *\n",
    "\n",
    "%load_ext autoreload\n",
    "%autoreload 2\n",
    "\n",
    "# Set quantify data directory\n",
    "set_datadir(\"O:\\FPA_RO_Data\")"
   ]
  },
  {
   "cell_type": "code",
   "execution_count": null,
   "id": "4a72db11",
   "metadata": {},
   "outputs": [],
   "source": [
    "from matplotlib.colors import PowerNorm, ListedColormap\n",
    "# Choose colormap\n",
    "cmap_blue = plt.cm.Blues\n",
    "cmap_red = plt.cm.Reds\n",
    "cmap_green = plt.cm.Greens\n",
    "cmap_purple = plt.cm.Purples\n",
    "cmap_orange = plt.cm.Oranges\n",
    "\n",
    "# Get the colormap colors\n",
    "cmap_blue = cmap_blue(np.arange(plt.cm.Blues.N))\n",
    "cmap_red = cmap_red(np.arange(plt.cm.Reds.N))\n",
    "cmap_green = cmap_green(np.arange(plt.cm.Greens.N))\n",
    "cmap_purple = cmap_purple(np.arange(plt.cm.Purples.N))\n",
    "cmap_orange = cmap_orange(np.arange(plt.cm.Oranges.N))\n",
    "\n",
    "# Set alpha\n",
    "cmap_blue[:,-1] = np.linspace(0, 1, plt.cm.Blues.N)\n",
    "cmap_red[:,-1] = np.linspace(0, 1, plt.cm.Reds.N)\n",
    "cmap_green[:,-1] = np.linspace(0, 1, plt.cm.Greens.N)\n",
    "cmap_purple[:,-1] = np.linspace(0, 1, plt.cm.Purples.N)\n",
    "cmap_orange[:,-1] = np.linspace(0, 1, plt.cm.Oranges.N)\n",
    "\n",
    "# Create new colormap\n",
    "cmap_blue = ListedColormap(cmap_blue)\n",
    "cmap_red = ListedColormap(cmap_red)\n",
    "cmap_green = ListedColormap(cmap_green)\n",
    "cmap_purple = ListedColormap(cmap_purple)\n",
    "cmap_orange = ListedColormap(cmap_orange)"
   ]
  },
  {
   "cell_type": "markdown",
   "id": "b465723a",
   "metadata": {},
   "source": [
    "# Fidelity vs Flux Pulse Amplitude\n",
    "performed for readout frequencies of 5.1755, 5.176, 5.1765, and 5.177 GHz, and readout amplitudes (100, 150, 200, 300, 400 mV)"
   ]
  },
  {
   "cell_type": "markdown",
   "id": "7d3ce177",
   "metadata": {},
   "source": [
    "## 100 mV"
   ]
  },
  {
   "cell_type": "code",
   "execution_count": null,
   "id": "e07f463c",
   "metadata": {},
   "outputs": [],
   "source": [
    "tuid_ssro_100 = get_tuids_containing('SSRO FX8', t_start='20231116-142858', t_stop='20231116-151907')"
   ]
  },
  {
   "cell_type": "code",
   "execution_count": null,
   "id": "c985027e",
   "metadata": {},
   "outputs": [],
   "source": [
    "freq_ro_100 = []\n",
    "flux_amp_100 = []\n",
    "\n",
    "fid_ass_raw_100 = []\n",
    "fid_discr_100 = []\n",
    "\n",
    "# Loop over all data folders to get the readout frequency and flux pulse amplitude\n",
    "for tuid in tuid_ssro_100:\n",
    "    try:\n",
    "        freq = get_RO_freq(tuid)\n",
    "        flux_amp = get_flux_pulse_amp(tuid)\n",
    "        fidelities = [get_raw_ass_fidelity(tuid), get_fid_discr(tuid)]\n",
    "        \n",
    "        freq_ro_100.append(freq)\n",
    "        flux_amp_100.append(flux_amp)\n",
    "        fid_ass_raw_100.append(fidelities[0])\n",
    "        fid_discr_100.append(fidelities[1])\n",
    "    except:\n",
    "        print(tuid)"
   ]
  },
  {
   "cell_type": "code",
   "execution_count": null,
   "id": "9aec7fc8",
   "metadata": {},
   "outputs": [],
   "source": [
    "idx_100_resfreq1 = np.argwhere(np.array(freq_ro_100) == 5.1755e9)[:,0]\n",
    "idx_100_resfreq2 = np.argwhere(np.array(freq_ro_100) == 5.176e9)[:,0]\n",
    "idx_100_resfreq3 = np.argwhere(np.array(freq_ro_100) == 5.1765e9)[:,0]\n",
    "idx_100_resfreq4 = np.argwhere(np.array(freq_ro_100) == 5.177e9)[:,0]\n",
    "\n",
    "fid_ass_raw_100_1 = [fid_ass_raw_100[i] for i in idx_100_resfreq1]\n",
    "fid_ass_raw_100_2 = [fid_ass_raw_100[i] for i in idx_100_resfreq2]\n",
    "fid_ass_raw_100_3 = [fid_ass_raw_100[i] for i in idx_100_resfreq3]\n",
    "fid_ass_raw_100_4 = [fid_ass_raw_100[i] for i in idx_100_resfreq4]\n",
    "\n",
    "fid_discr_100_1 = [fid_discr_100[i] for i in idx_100_resfreq1]\n",
    "fid_discr_100_2 = [fid_discr_100[i] for i in idx_100_resfreq2]\n",
    "fid_discr_100_3 = [fid_discr_100[i] for i in idx_100_resfreq3]\n",
    "fid_discr_100_4 = [fid_discr_100[i] for i in idx_100_resfreq4]\n",
    "\n",
    "flux_amp_100_1 = [flux_amp_100[i] for i in idx_100_resfreq1]\n",
    "flux_amp_100_2 = [flux_amp_100[i] for i in idx_100_resfreq2]\n",
    "flux_amp_100_3 = [flux_amp_100[i] for i in idx_100_resfreq3]\n",
    "flux_amp_100_4 = [flux_amp_100[i] for i in idx_100_resfreq4]"
   ]
  },
  {
   "cell_type": "code",
   "execution_count": null,
   "id": "692b7bd3",
   "metadata": {},
   "outputs": [],
   "source": [
    "plt.xlabel('Flux Pulse Amplitude (V)')\n",
    "plt.ylabel('Raw Assignment Fidelity')\n",
    "plt.title('Readout Amplitude: 100 mV')\n",
    "plt.xlim(flux_amp_100_1[0], flux_amp_100_1[-1])\n",
    "plt.plot(flux_amp_100_1, fid_ass_raw_100_1, marker='o', linestyle=' ', color=cmap_purple(0.4), label='5.1755 GHz')\n",
    "plt.plot(flux_amp_100_2, fid_ass_raw_100_2, marker='o', linestyle=' ', color=cmap_purple(0.6), label='5.176 GHz')\n",
    "plt.plot(flux_amp_100_3, fid_ass_raw_100_3, marker='o', linestyle=' ', color=cmap_purple(0.8), label='5.1765 GHz')\n",
    "plt.plot(flux_amp_100_4, fid_ass_raw_100_4, marker='o', linestyle=' ', color=cmap_purple(1.0), label='5.177 GHz')\n",
    "plt.legend(loc='best', frameon=False)\n",
    "plt.show()"
   ]
  },
  {
   "cell_type": "markdown",
   "id": "d9a600ef",
   "metadata": {},
   "source": [
    "## 150 mV"
   ]
  },
  {
   "cell_type": "code",
   "execution_count": null,
   "id": "a79d8fec",
   "metadata": {},
   "outputs": [],
   "source": [
    "tuid_ssro_150_1 = get_tuids_containing('SSRO FX8', t_start='20231116-121406', t_stop='20231116-123430')\n",
    "tuid_ssro_150_2 = get_tuids_containing('SSRO FX8', t_start='20231116-135120', t_stop='20231116-135438')\n",
    "tuid_ssro_150_3 = get_tuids_containing('SSRO FX8', t_start='20231116-135737', t_stop='20231116-142213')\n",
    "tuid_ssro_150 = np.concatenate((tuid_ssro_150_1, tuid_ssro_150_2, tuid_ssro_150_3))"
   ]
  },
  {
   "cell_type": "code",
   "execution_count": null,
   "id": "e3192d37",
   "metadata": {},
   "outputs": [],
   "source": [
    "freq_ro_150 = []\n",
    "flux_amp_150 = []\n",
    "\n",
    "fid_ass_raw_150 = []\n",
    "fid_discr_150 = []\n",
    "\n",
    "# Loop over all data folders to get the readout frequency and flux pulse amplitude\n",
    "for tuid in tuid_ssro_150:\n",
    "    try:\n",
    "        freq = get_RO_freq(tuid)\n",
    "        flux_amp = get_flux_pulse_amp(tuid)\n",
    "        fidelities = [get_raw_ass_fidelity(tuid), get_fid_discr(tuid)]\n",
    "        \n",
    "        freq_ro_150.append(freq)\n",
    "        flux_amp_150.append(flux_amp)\n",
    "        fid_ass_raw_150.append(fidelities[0])\n",
    "        fid_discr_150.append(fidelities[1])\n",
    "    except:\n",
    "        print(tuid)"
   ]
  },
  {
   "cell_type": "code",
   "execution_count": null,
   "id": "bddc6ae9",
   "metadata": {},
   "outputs": [],
   "source": [
    "idx_150_resfreq1 = np.argwhere(np.array(freq_ro_150) == 5.1755e9)[:,0]\n",
    "idx_150_resfreq2 = np.argwhere(np.array(freq_ro_150) == 5.176e9)[:,0]\n",
    "idx_150_resfreq3 = np.argwhere(np.array(freq_ro_150) == 5.1765e9)[:,0]\n",
    "idx_150_resfreq4 = np.argwhere(np.array(freq_ro_150) == 5.177e9)[:,0]\n",
    "\n",
    "fid_ass_raw_150_1 = [fid_ass_raw_150[i] for i in idx_150_resfreq1]\n",
    "fid_ass_raw_150_2 = [fid_ass_raw_150[i] for i in idx_150_resfreq2]\n",
    "fid_ass_raw_150_3 = [fid_ass_raw_150[i] for i in idx_150_resfreq3]\n",
    "fid_ass_raw_150_4 = [fid_ass_raw_150[i] for i in idx_150_resfreq4]\n",
    "\n",
    "fid_discr_150_1 = [fid_discr_150[i] for i in idx_150_resfreq1]\n",
    "fid_discr_150_2 = [fid_discr_150[i] for i in idx_150_resfreq2]\n",
    "fid_discr_150_3 = [fid_discr_150[i] for i in idx_150_resfreq3]\n",
    "fid_discr_150_4 = [fid_discr_150[i] for i in idx_150_resfreq4]\n",
    "\n",
    "flux_amp_150_1 = [flux_amp_150[i] for i in idx_150_resfreq1]\n",
    "flux_amp_150_2 = [flux_amp_150[i] for i in idx_150_resfreq2]\n",
    "flux_amp_150_3 = [flux_amp_150[i] for i in idx_150_resfreq3]\n",
    "flux_amp_150_4 = [flux_amp_150[i] for i in idx_150_resfreq4]"
   ]
  },
  {
   "cell_type": "code",
   "execution_count": null,
   "id": "367e5298",
   "metadata": {
    "scrolled": true
   },
   "outputs": [],
   "source": [
    "plt.xlabel('Flux Pulse Amplitude (V)')\n",
    "plt.ylabel('Raw Assignment Fidelity')\n",
    "plt.title('Readout Amplitude: 150 mV')\n",
    "plt.xlim(flux_amp_150_1[0], flux_amp_150_1[-1])\n",
    "plt.plot(flux_amp_150_1, fid_ass_raw_150_1, marker='o', linestyle=' ', color=cmap_green(0.4), label='5.1755 GHz')\n",
    "plt.plot(flux_amp_150_2, fid_ass_raw_150_2, marker='o', linestyle=' ', color=cmap_green(0.6), label='5.176 GHz')\n",
    "plt.plot(flux_amp_150_3, fid_ass_raw_150_3, marker='o', linestyle=' ', color=cmap_green(0.8), label='5.1765 GHz')\n",
    "plt.plot(flux_amp_150_4, fid_ass_raw_150_4, marker='o', linestyle=' ', color=cmap_green(1.0), label='5.177 GHz')\n",
    "plt.legend(loc='best', frameon=False)\n",
    "plt.show()"
   ]
  },
  {
   "cell_type": "markdown",
   "id": "d0ded249",
   "metadata": {},
   "source": [
    "## 200 mV"
   ]
  },
  {
   "cell_type": "code",
   "execution_count": null,
   "id": "bdf5f585",
   "metadata": {},
   "outputs": [],
   "source": [
    "tuid_ssro_200_1 = get_tuids_containing('SSRO FX8', t_start='20231115-114040', t_stop='20231115-120638')\n",
    "tuid_ssro_200_2 = get_tuids_containing('SSRO FX8', t_start='20231115-125706', t_stop='20231115-132243')\n",
    "tuid_ssro_200 = np.concatenate((tuid_ssro_200_1, tuid_ssro_200_2))"
   ]
  },
  {
   "cell_type": "code",
   "execution_count": null,
   "id": "2f04b284",
   "metadata": {},
   "outputs": [],
   "source": [
    "freq_ro_200 = []\n",
    "flux_amp_200 = []\n",
    "\n",
    "fid_ass_raw_200 = []\n",
    "fid_discr_200 = []\n",
    "\n",
    "# Loop over all data folders to get the readout frequency and flux pulse amplitude\n",
    "for tuid in tuid_ssro_200:\n",
    "    try:\n",
    "        freq = get_RO_freq(tuid)\n",
    "        flux_amp = get_flux_pulse_amp(tuid)\n",
    "        fidelities = [get_raw_ass_fidelity(tuid), get_fid_discr(tuid)]\n",
    "        \n",
    "        freq_ro_200.append(freq)\n",
    "        flux_amp_200.append(flux_amp)\n",
    "        fid_ass_raw_200.append(fidelities[0])\n",
    "        fid_discr_200.append(fidelities[1])\n",
    "    except:\n",
    "        print(tuid)"
   ]
  },
  {
   "cell_type": "code",
   "execution_count": null,
   "id": "1f24fee8",
   "metadata": {},
   "outputs": [],
   "source": [
    "idx_200_resfreq1 = np.argwhere(np.array(freq_ro_200) == 5.1755e9)[:,0]\n",
    "idx_200_resfreq2 = np.argwhere(np.array(freq_ro_200) == 5.176e9)[:,0]\n",
    "idx_200_resfreq3 = np.argwhere(np.array(freq_ro_200) == 5.1765e9)[:,0]\n",
    "idx_200_resfreq4 = np.argwhere(np.array(freq_ro_200) == 5.177e9)[:,0]\n",
    "\n",
    "fid_ass_raw_200_1 = [fid_ass_raw_200[i] for i in idx_200_resfreq1]\n",
    "fid_ass_raw_200_2 = [fid_ass_raw_200[i] for i in idx_200_resfreq2]\n",
    "fid_ass_raw_200_3 = [fid_ass_raw_200[i] for i in idx_200_resfreq3]\n",
    "fid_ass_raw_200_4 = [fid_ass_raw_200[i] for i in idx_200_resfreq4]\n",
    "\n",
    "fid_discr_200_1 = [fid_discr_200[i] for i in idx_200_resfreq1]\n",
    "fid_discr_200_2 = [fid_discr_200[i] for i in idx_200_resfreq2]\n",
    "fid_discr_200_3 = [fid_discr_200[i] for i in idx_200_resfreq3]\n",
    "fid_discr_200_4 = [fid_discr_200[i] for i in idx_200_resfreq4]\n",
    "\n",
    "flux_amp_200_1 = [flux_amp_200[i] for i in idx_200_resfreq1]\n",
    "flux_amp_200_2 = [flux_amp_200[i] for i in idx_200_resfreq2]\n",
    "flux_amp_200_3 = [flux_amp_200[i] for i in idx_200_resfreq3]\n",
    "flux_amp_200_4 = [flux_amp_200[i] for i in idx_200_resfreq4]"
   ]
  },
  {
   "cell_type": "code",
   "execution_count": null,
   "id": "bda82ca9",
   "metadata": {
    "scrolled": true
   },
   "outputs": [],
   "source": [
    "plt.xlabel('Flux Pulse Amplitude (V)')\n",
    "plt.ylabel('Raw Assignment Fidelity')\n",
    "plt.title('Readout Amplitude: 200 mV')\n",
    "plt.xlim(flux_amp_200_1[0], flux_amp_200_1[-1])\n",
    "plt.plot(flux_amp_200_1, fid_ass_raw_200_1, marker='o', linestyle=' ', color=cmap_blue(0.4), label='5.1755 GHz')\n",
    "plt.plot(flux_amp_200_2, fid_ass_raw_200_2, marker='o', linestyle=' ', color=cmap_blue(0.6), label='5.176 GHz')\n",
    "plt.plot(flux_amp_200_3, fid_ass_raw_200_3, marker='o', linestyle=' ', color=cmap_blue(0.8), label='5.1765 GHz')\n",
    "plt.plot(flux_amp_200_4, fid_ass_raw_200_4, marker='o', linestyle=' ', color=cmap_blue(1.0), label='5.177 GHz')\n",
    "plt.legend(loc='best', frameon=False)\n",
    "plt.show()"
   ]
  },
  {
   "cell_type": "markdown",
   "id": "882472d7",
   "metadata": {},
   "source": [
    "## 300 mV"
   ]
  },
  {
   "cell_type": "code",
   "execution_count": null,
   "id": "53419cea",
   "metadata": {},
   "outputs": [],
   "source": [
    "tuid_ssro_300 = get_tuids_containing('SSRO FX8', t_start='20231115-132801', t_stop='20231115-141905')"
   ]
  },
  {
   "cell_type": "code",
   "execution_count": null,
   "id": "853cb457",
   "metadata": {},
   "outputs": [],
   "source": [
    "freq_ro_300 = []\n",
    "flux_amp_300 = []\n",
    "\n",
    "fid_ass_raw_300 = []\n",
    "fid_discr_300 = []\n",
    "\n",
    "# Loop over all data folders to get the readout frequency and flux pulse amplitude\n",
    "for tuid in tuid_ssro_300:\n",
    "    try:\n",
    "        freq = get_RO_freq(tuid)\n",
    "        flux_amp = get_flux_pulse_amp(tuid)\n",
    "        fidelities = [get_raw_ass_fidelity(tuid), get_fid_discr(tuid)]\n",
    "        \n",
    "        freq_ro_300.append(freq)\n",
    "        flux_amp_300.append(flux_amp)\n",
    "        fid_ass_raw_300.append(fidelities[0])\n",
    "        fid_discr_300.append(fidelities[1])\n",
    "    except:\n",
    "        print(tuid)"
   ]
  },
  {
   "cell_type": "code",
   "execution_count": null,
   "id": "34ce442a",
   "metadata": {},
   "outputs": [],
   "source": [
    "idx_300_resfreq1 = np.argwhere(np.array(freq_ro_300) == 5.1755e9)[:,0]\n",
    "idx_300_resfreq2 = np.argwhere(np.array(freq_ro_300) == 5.176e9)[:,0]\n",
    "idx_300_resfreq3 = np.argwhere(np.array(freq_ro_300) == 5.1765e9)[:,0]\n",
    "idx_300_resfreq4 = np.argwhere(np.array(freq_ro_300) == 5.177e9)[:,0]\n",
    "\n",
    "fid_ass_raw_300_1 = [fid_ass_raw_300[i] for i in idx_300_resfreq1]\n",
    "fid_ass_raw_300_2 = [fid_ass_raw_300[i] for i in idx_300_resfreq2]\n",
    "fid_ass_raw_300_3 = [fid_ass_raw_300[i] for i in idx_300_resfreq3]\n",
    "fid_ass_raw_300_4 = [fid_ass_raw_300[i] for i in idx_300_resfreq4]\n",
    "\n",
    "fid_discr_300_1 = [fid_discr_300[i] for i in idx_300_resfreq1]\n",
    "fid_discr_300_2 = [fid_discr_300[i] for i in idx_300_resfreq2]\n",
    "fid_discr_300_3 = [fid_discr_300[i] for i in idx_300_resfreq3]\n",
    "fid_discr_300_4 = [fid_discr_300[i] for i in idx_300_resfreq4]\n",
    "\n",
    "flux_amp_300_1 = [flux_amp_300[i] for i in idx_300_resfreq1]\n",
    "flux_amp_300_2 = [flux_amp_300[i] for i in idx_300_resfreq2]\n",
    "flux_amp_300_3 = [flux_amp_300[i] for i in idx_300_resfreq3]\n",
    "flux_amp_300_4 = [flux_amp_300[i] for i in idx_300_resfreq4]"
   ]
  },
  {
   "cell_type": "code",
   "execution_count": null,
   "id": "5e437e95",
   "metadata": {},
   "outputs": [],
   "source": [
    "plt.xlabel('Flux Pulse Amplitude (V)')\n",
    "plt.ylabel('Raw Assignment Fidelity')\n",
    "plt.title('Readout Amplitude: 300 mV')\n",
    "plt.xlim(flux_amp_300_1[0], flux_amp_300_1[-1])\n",
    "plt.plot(flux_amp_300_1, fid_ass_raw_300_1, marker='o', linestyle=' ', color=cmap_red(0.4), label='5.1755 GHz')\n",
    "plt.plot(flux_amp_300_2, fid_ass_raw_300_2, marker='o', linestyle=' ', color=cmap_red(0.6), label='5.176 GHz')\n",
    "plt.plot(flux_amp_300_3, fid_ass_raw_300_3, marker='o', linestyle=' ', color=cmap_red(0.8), label='5.1765 GHz')\n",
    "plt.plot(flux_amp_300_4, fid_ass_raw_300_4, marker='o', linestyle=' ', color=cmap_red(1.0), label='5.177 GHz')\n",
    "plt.legend(loc='best', frameon=False)\n",
    "plt.show()"
   ]
  },
  {
   "cell_type": "markdown",
   "id": "51e75b71",
   "metadata": {},
   "source": [
    "## 400 mV"
   ]
  },
  {
   "cell_type": "code",
   "execution_count": null,
   "id": "d1c017b8",
   "metadata": {},
   "outputs": [],
   "source": [
    "tuid_ssro_400 = get_tuids_containing('SSRO FX8', t_start='20231117-151952', t_stop='20231117-161422')"
   ]
  },
  {
   "cell_type": "code",
   "execution_count": null,
   "id": "870fdb4b",
   "metadata": {},
   "outputs": [],
   "source": [
    "freq_ro_400 = []\n",
    "flux_amp_400 = []\n",
    "\n",
    "fid_ass_raw_400 = []\n",
    "fid_discr_400 = []\n",
    "\n",
    "# Loop over all data folders to get the readout frequency and flux pulse amplitude\n",
    "for tuid in tuid_ssro_400:\n",
    "    try:\n",
    "        freq = get_RO_freq(tuid)\n",
    "        flux_amp = get_flux_pulse_amp(tuid)\n",
    "        fidelities = [get_raw_ass_fidelity(tuid), get_fid_discr(tuid)]\n",
    "        \n",
    "        freq_ro_400.append(freq)\n",
    "        flux_amp_400.append(flux_amp)\n",
    "        fid_ass_raw_400.append(fidelities[0])\n",
    "        fid_discr_400.append(fidelities[1])\n",
    "    except:\n",
    "        print(tuid)"
   ]
  },
  {
   "cell_type": "code",
   "execution_count": null,
   "id": "dc248d61",
   "metadata": {},
   "outputs": [],
   "source": [
    "idx_400_resfreq1 = np.argwhere(np.array(freq_ro_400) == 5.1755e9)[:,0]\n",
    "idx_400_resfreq2 = np.argwhere(np.array(freq_ro_400) == 5.176e9)[:,0]\n",
    "idx_400_resfreq3 = np.argwhere(np.array(freq_ro_400) == 5.1765e9)[:,0]\n",
    "idx_400_resfreq4 = np.argwhere(np.array(freq_ro_400) == 5.177e9)[:,0]\n",
    "\n",
    "fid_ass_raw_400_1 = [fid_ass_raw_400[i] for i in idx_400_resfreq1]\n",
    "fid_ass_raw_400_2 = [fid_ass_raw_400[i] for i in idx_400_resfreq2]\n",
    "fid_ass_raw_400_3 = [fid_ass_raw_400[i] for i in idx_400_resfreq3]\n",
    "fid_ass_raw_400_4 = [fid_ass_raw_400[i] for i in idx_400_resfreq4]\n",
    "\n",
    "fid_discr_400_1 = [fid_discr_400[i] for i in idx_400_resfreq1]\n",
    "fid_discr_400_2 = [fid_discr_400[i] for i in idx_400_resfreq2]\n",
    "fid_discr_400_3 = [fid_discr_400[i] for i in idx_400_resfreq3]\n",
    "fid_discr_400_4 = [fid_discr_400[i] for i in idx_400_resfreq4]\n",
    "\n",
    "flux_amp_400_1 = [flux_amp_400[i] for i in idx_400_resfreq1]\n",
    "flux_amp_400_2 = [flux_amp_400[i] for i in idx_400_resfreq2]\n",
    "flux_amp_400_3 = [flux_amp_400[i] for i in idx_400_resfreq3]\n",
    "flux_amp_400_4 = [flux_amp_400[i] for i in idx_400_resfreq4]"
   ]
  },
  {
   "cell_type": "code",
   "execution_count": null,
   "id": "bfdd936a",
   "metadata": {},
   "outputs": [],
   "source": [
    "plt.xlabel('Flux Pulse Amplitude (V)')\n",
    "plt.ylabel('Raw Assignment Fidelity')\n",
    "plt.title('Readout Amplitude: 400 mV')\n",
    "plt.xlim(flux_amp_400_1[0], flux_amp_400_1[-1])\n",
    "plt.plot(flux_amp_400_1, fid_ass_raw_400_1, marker='o', linestyle=' ', color=cmap_orange(0.4), label='5.1755 GHz')\n",
    "plt.plot(flux_amp_400_2, fid_ass_raw_400_2, marker='o', linestyle=' ', color=cmap_orange(0.6), label='5.176 GHz')\n",
    "plt.plot(flux_amp_400_3, fid_ass_raw_400_3, marker='o', linestyle=' ', color=cmap_orange(0.8), label='5.1765 GHz')\n",
    "plt.plot(flux_amp_400_4, fid_ass_raw_400_4, marker='o', linestyle=' ', color=cmap_orange(1.0), label='5.177 GHz')\n",
    "plt.legend(loc='best', frameon=False)\n",
    "plt.show()"
   ]
  },
  {
   "cell_type": "markdown",
   "id": "b1b3c187",
   "metadata": {},
   "source": [
    "## Plotting"
   ]
  },
  {
   "cell_type": "code",
   "execution_count": null,
   "id": "f6b91755",
   "metadata": {},
   "outputs": [],
   "source": [
    "phiext_100 = []\n",
    "phiext_150 = []\n",
    "phiext_200 = []\n",
    "phiext_300 = []\n",
    "phiext_400 = []\n",
    "\n",
    "for i in flux_amp_100_2:\n",
    "    phiext_100.append((0.2/0.1155)*i + 0.5)\n",
    "for i in flux_amp_150_2:\n",
    "    phiext_150.append((0.2/0.1155)*i + 0.5)\n",
    "for i in flux_amp_200_2:\n",
    "    phiext_200.append((0.2/0.1155)*i + 0.5)\n",
    "for i in flux_amp_300_2:\n",
    "    phiext_300.append((0.2/0.1155)*i + 0.5)\n",
    "for i in flux_amp_400_2:\n",
    "    phiext_400.append((0.2/0.1155)*i + 0.5)"
   ]
  },
  {
   "cell_type": "code",
   "execution_count": null,
   "id": "dbf4489a",
   "metadata": {},
   "outputs": [],
   "source": [
    "fig, ax = plt.subplots(ncols=1, nrows=1, dpi=250)\n",
    "\n",
    "fig.subplots_adjust(bottom = 0.16, top=0.99, left=0.19, right=0.9, wspace=0.4, hspace=0.3)\n",
    "\n",
    "fig.set_size_inches(7/2, 2)\n",
    "ax1 = ax\n",
    "\n",
    "tick_fs = 9\n",
    "label_fs = 10\n",
    "lw = 1.5\n",
    "\n",
    "color_intensity = 0.8\n",
    "color_100=cmap_purple(color_intensity)\n",
    "color_150=cmap_green(color_intensity)\n",
    "color_200=cmap_blue(color_intensity)\n",
    "color_300=cmap_red(color_intensity)\n",
    "color_400=cmap_orange(color_intensity)\n",
    "\n",
    "a, = ax1.plot(phiext_100, fid_ass_raw_100_2, color=color_100, linestyle='', marker='.', markersize=6, label=r\"100 mV\")\n",
    "b, = ax1.plot(phiext_150, fid_ass_raw_150_2, color=color_150, linestyle='', marker='.', markersize=6, label=r\"150 mV\")\n",
    "c, = ax1.plot(phiext_200, fid_ass_raw_200_2, color=color_200, linestyle='', marker='.', markersize=6, label=r\"200 mV\")\n",
    "d, = ax1.plot(phiext_300, fid_ass_raw_300_2, color=color_300, linestyle='', marker='.', markersize=6, label=r\"300 mV\")\n",
    "e, = ax1.plot(phiext_400, fid_ass_raw_400_2, color=color_400, linestyle='', marker='.', markersize=6, label=r\"400 mV\")\n",
    "ax1.tick_params(axis='y', pad=3, labelsize=tick_fs)\n",
    "ax1.tick_params(axis='x', pad=3, labelsize=tick_fs)\n",
    "ax1.set_xlim(phiext_100[0], phiext_100[-1])\n",
    "ax1.set_ylim(0.5, 0.95)\n",
    "ax1.set_xlabel(r\"$\\Phi_{ext}/\\Phi_0$\", fontsize=label_fs)\n",
    "ax1.set_ylabel(r\"Raw Assign. Fidelity\", fontsize=label_fs, labelpad=2)\n",
    "\n",
    "l1 = ax1.legend([a, b], [r\"100 mV\", r\"150 mV\"],\n",
    "               handler_map={tuple: HandlerTuple(ndivide=None)}, handletextpad=-0.3, frameon=False, fontsize = tick_fs, labelspacing=0.3, \n",
    "               loc='upper left', bbox_to_anchor=(0.38, 1.05))\n",
    "l2 = ax1.legend([c, d, e], [r\"200 mV\", r\"300 mV\", r\"400 mV\"],\n",
    "               handler_map={tuple: HandlerTuple(ndivide=None)}, handletextpad=-0.3, frameon=False, fontsize = tick_fs, labelspacing=0.3, \n",
    "               loc='upper left', bbox_to_anchor=(0.66, 1.05))\n",
    "ax1.add_artist(l1)\n",
    "ax1.add_artist(l2)"
   ]
  },
  {
   "cell_type": "code",
   "execution_count": null,
   "id": "f0afe808",
   "metadata": {},
   "outputs": [],
   "source": [
    "fig, ax = plt.subplots(ncols=1, nrows=1, dpi=250)\n",
    "\n",
    "fig.subplots_adjust(bottom = 0.16, top=0.99, left=0.19, right=0.9, wspace=0.4, hspace=0.3)\n",
    "\n",
    "fig.set_size_inches(7/2, 2)\n",
    "ax1 = ax\n",
    "\n",
    "tick_fs = 9\n",
    "label_fs = 10\n",
    "lw = 1.5\n",
    "\n",
    "color_intensity = 0.8\n",
    "color_100=cmap_purple(color_intensity)\n",
    "color_150=cmap_green(color_intensity)\n",
    "color_200=cmap_blue(color_intensity)\n",
    "color_300=cmap_red(color_intensity)\n",
    "color_400=cmap_orange(color_intensity)\n",
    "\n",
    "a, = ax1.plot(phiext_100, fid_ass_raw_100_2, color=color_100, linestyle='', marker='.', markersize=6, label=r\"100 mV\")\n",
    "b, = ax1.plot(phiext_150, fid_ass_raw_150_2, color=color_150, linestyle='', marker='.', markersize=6, label=r\"150 mV\")\n",
    "c, = ax1.plot(phiext_200, fid_ass_raw_200_2, color=color_200, linestyle='', marker='.', markersize=6, label=r\"200 mV\")\n",
    "d, = ax1.plot(phiext_300, fid_ass_raw_300_2, color=color_300, linestyle='', marker='.', markersize=6, label=r\"300 mV\")\n",
    "e, = ax1.plot(phiext_400, fid_ass_raw_400_2, color=color_400, linestyle='', marker='.', markersize=6, label=r\"400 mV\")\n",
    "ax1.tick_params(axis='y', pad=3, labelsize=tick_fs)\n",
    "ax1.tick_params(axis='x', pad=3, labelsize=tick_fs)\n",
    "ax1.set_xlim(phiext_100[0], phiext_100[-1])\n",
    "ax1.set_ylim(0.5, 0.95)\n",
    "ax1.set_xlabel(r\"$\\Phi_{ext}/\\Phi_0$\", fontsize=label_fs)\n",
    "ax1.set_ylabel(r\"Assign. Fidelity\", fontsize=label_fs, labelpad=2)\n",
    "l1 = ax1.legend([a, b], [r\"$\\bar{n}$ = 3.3\", r\"$\\bar{n}$ = 7.3\"],\n",
    "               handler_map={tuple: HandlerTuple(ndivide=None)}, handletextpad=-0.5, frameon=False, fontsize = tick_fs, labelspacing=0.3, \n",
    "               loc='upper left', bbox_to_anchor=(0.38, 1.05))\n",
    "l2 = ax1.legend([c, d, e], [r\"$\\bar{n}$ = 13.0\", r\"$\\bar{n}$ = 29.3\", r\"$\\bar{n}$ = 52.1\"],\n",
    "               handler_map={tuple: HandlerTuple(ndivide=None)}, handletextpad=-0.5, frameon=False, fontsize = tick_fs, labelspacing=0.3, \n",
    "               loc='upper left', bbox_to_anchor=(0.63, 1.05))\n",
    "ax1.add_artist(l1)\n",
    "ax1.add_artist(l2)"
   ]
  },
  {
   "cell_type": "markdown",
   "id": "1a919f4b",
   "metadata": {},
   "source": [
    "# Fidelity vs RO frequency at SS"
   ]
  },
  {
   "cell_type": "code",
   "execution_count": null,
   "id": "9dbc2009",
   "metadata": {},
   "outputs": [],
   "source": [
    "tuid_nofp_100 = get_tuids_containing('SSRO FX8', t_start='20231117-165915', t_stop='20231117-170256')\n",
    "tuid_nofp_150 = get_tuids_containing('SSRO FX8', t_start='20231117-170442', t_stop='20231117-170802')\n",
    "tuid_nofp_200 = get_tuids_containing('SSRO FX8', t_start='20231117-170918', t_stop='20231117-171222')\n",
    "tuid_nofp_300 = get_tuids_containing('SSRO FX8', t_start='20231117-171426', t_stop='20231117-171728')\n",
    "tuid_nofp_400 = get_tuids_containing('SSRO FX8', t_start='20231117-171801', t_stop='20231117-172058')"
   ]
  },
  {
   "cell_type": "code",
   "execution_count": null,
   "id": "ffc5cb4e",
   "metadata": {},
   "outputs": [],
   "source": [
    "freq_ro_100 = []\n",
    "freq_ro_150 = []\n",
    "freq_ro_200 = []\n",
    "freq_ro_300 = []\n",
    "freq_ro_400 = []\n",
    "\n",
    "fid_ass_raw_nofp_100 = []\n",
    "fid_ass_raw_nofp_150 = []\n",
    "fid_ass_raw_nofp_200 = []\n",
    "fid_ass_raw_nofp_300 = []\n",
    "fid_ass_raw_nofp_400 = []\n",
    "\n",
    "# Loop over all data folders to find all the readout frequencies\n",
    "for i,tuid in enumerate(tuid_nofp_100):\n",
    "    try:\n",
    "        freq_ro_100.append(get_RO_freq(tuid))\n",
    "        fid_ass_raw_nofp_100.append(get_raw_ass_fidelity(tuid))\n",
    "    except:\n",
    "        print(tuid)\n",
    "        \n",
    "for i,tuid in enumerate(tuid_nofp_150):\n",
    "    try:\n",
    "        freq_ro_150.append(get_RO_freq(tuid))\n",
    "        fid_ass_raw_nofp_150.append(get_raw_ass_fidelity(tuid))\n",
    "    except:\n",
    "        print(tuid)\n",
    "        \n",
    "for i,tuid in enumerate(tuid_nofp_200):\n",
    "    try:\n",
    "        freq_ro_200.append(get_RO_freq(tuid))\n",
    "        fid_ass_raw_nofp_200.append(get_raw_ass_fidelity(tuid))\n",
    "    except:\n",
    "        print(tuid)\n",
    "        \n",
    "for i,tuid in enumerate(tuid_nofp_300):\n",
    "    try:\n",
    "        freq_ro_300.append(get_RO_freq(tuid))\n",
    "        fid_ass_raw_nofp_300.append(get_raw_ass_fidelity(tuid))\n",
    "    except:\n",
    "        print(tuid)\n",
    "        \n",
    "for i,tuid in enumerate(tuid_nofp_400):\n",
    "    try:\n",
    "        freq_ro_400.append(get_RO_freq(tuid))\n",
    "        fid_ass_raw_nofp_400.append(get_raw_ass_fidelity(tuid))\n",
    "    except:\n",
    "        print(tuid)"
   ]
  },
  {
   "cell_type": "markdown",
   "id": "74409c34",
   "metadata": {},
   "source": [
    "## Plotting"
   ]
  },
  {
   "cell_type": "code",
   "execution_count": null,
   "id": "daa90cb5",
   "metadata": {},
   "outputs": [],
   "source": [
    "plt.xlabel('Readout Frequency (GHz)')\n",
    "plt.ylabel('Raw Assignment Fidelity')\n",
    "plt.xlim(5.174, 5.1775)\n",
    "plt.ylim(0.5, 0.8)\n",
    "plt.plot(np.array(freq_ro_100)*10**(-9), fid_ass_raw_nofp_100, marker='o', linestyle=' ', color=cmap_purple(0.8), label='100 mV')\n",
    "plt.plot(np.array(freq_ro_150)*10**(-9), fid_ass_raw_nofp_150, marker='o', linestyle=' ', color=cmap_green(0.8), label='150 mV')\n",
    "plt.plot(np.array(freq_ro_200)*10**(-9), fid_ass_raw_nofp_200, marker='o', linestyle=' ', color=cmap_blue(0.8), label='200 mV')\n",
    "plt.plot(np.array(freq_ro_300)*10**(-9), fid_ass_raw_nofp_300, marker='o', linestyle=' ', color=cmap_red(0.8), label='300 mV')\n",
    "plt.plot(np.array(freq_ro_400)*10**(-9), fid_ass_raw_nofp_400, marker='o', linestyle=' ', color=cmap_orange(0.8), label='400 mV')\n",
    "plt.legend()\n",
    "plt.show()"
   ]
  },
  {
   "cell_type": "markdown",
   "id": "22df2205",
   "metadata": {},
   "source": [
    "# Fidelity vs Integration Time (variable $\\Delta \\Phi_{ext}/\\Phi_{0}$)"
   ]
  },
  {
   "cell_type": "code",
   "execution_count": null,
   "id": "e3bb2e0a",
   "metadata": {},
   "outputs": [],
   "source": [
    "tuid_static_100 = get_tuids_containing('SSRO FX8', t_start='20231118-205254', t_stop='20231118-210007')\n",
    "tuid_fpa_100 = get_tuids_containing('SSRO FX8', t_start='20231119-023751', t_stop='20231119-024513')\n",
    "\n",
    "tuid_static_150 = get_tuids_containing('SSRO FX8', t_start='20231118-210336', t_stop='20231118-211104')\n",
    "tuid_fpa_150 = get_tuids_containing('SSRO FX8', t_start='20231119-024539', t_stop='20231119-025321')\n",
    "\n",
    "tuid_static_200 = get_tuids_containing('SSRO FX8', t_start='20231118-211649', t_stop='20231118-212421')\n",
    "tuid_fpa_200 = get_tuids_containing('SSRO FX8', t_start='20231119-025346', t_stop='20231119-030126')\n",
    "\n",
    "tuid_static_300 = get_tuids_containing('SSRO FX8', t_start='20231118-213438', t_stop='20231118-214159')\n",
    "tuid_fpa_300 = get_tuids_containing('SSRO FX8', t_start='20231119-030153', t_stop='20231119-030934')\n",
    "\n",
    "tuid_static_400 = get_tuids_containing('SSRO FX8', t_start='20231118-215036', t_stop='20231118-215757')\n",
    "tuid_fpa_400 = get_tuids_containing('SSRO FX8', t_start='20231119-031000', t_stop='20231119-031730')"
   ]
  },
  {
   "cell_type": "markdown",
   "id": "e5285458",
   "metadata": {},
   "source": [
    "## 100 mV\n",
    "with FPA readout, $\\Delta \\Phi_{ext}/\\Phi_{0}$ = 0.1697"
   ]
  },
  {
   "cell_type": "code",
   "execution_count": null,
   "id": "32812ba3",
   "metadata": {},
   "outputs": [],
   "source": [
    "fid_ass_raw_static_100 = []\n",
    "fid_discr_static_100 = []\n",
    "int_times_static_100 = []\n",
    "\n",
    "for tuid in tuid_static_100:\n",
    "    fid_ass_raw_static_100.append(get_raw_ass_fidelity(tuid))\n",
    "    fid_discr_static_100.append(get_fid_discr(tuid))\n",
    "    int_times_static_100.append(get_integration_time(tuid)*10**(6))\n",
    "\n",
    "fid_ass_raw_fpa_100 = []\n",
    "fid_discr_fpa_100 = []\n",
    "int_times_fpa_100 = []\n",
    "\n",
    "for tuid in tuid_fpa_100:\n",
    "    fid_ass_raw_fpa_100.append(get_raw_ass_fidelity(tuid))\n",
    "    fid_discr_fpa_100.append(get_fid_discr(tuid))\n",
    "    int_times_fpa_100.append(get_integration_time(tuid)*10**(6))"
   ]
  },
  {
   "cell_type": "code",
   "execution_count": null,
   "id": "588a9454",
   "metadata": {},
   "outputs": [],
   "source": [
    "plt.xlabel('Integration Time (us)')\n",
    "plt.ylabel('Fidelity')\n",
    "plt.title('Readout Amplitude: 100 mV')\n",
    "plt.ylim(0.5, 1)\n",
    "plt.xlim(int_times_static_100[0], int_times_static_100[-1])\n",
    "plt.plot(int_times_static_100, fid_ass_raw_static_100, marker='o', linestyle=' ', color=cmap_purple(0.6), label=r'$F_{assign}$, SS')\n",
    "plt.plot(int_times_fpa_100, fid_ass_raw_fpa_100, marker='o', linestyle=' ', color=cmap_purple(0.8), label=r'$F_{assign}$, FPA')\n",
    "plt.plot(int_times_static_100, fid_discr_static_100, marker='P', linestyle=' ', color=cmap_purple(0.6), label=r'$F_{SNR}$, SS')\n",
    "plt.plot(int_times_fpa_100, fid_discr_fpa_100, marker='P', linestyle=' ', color=cmap_purple(0.8), label=r'$F_{SNR}$, FPA')\n",
    "plt.legend(loc='best', frameon=False)\n",
    "plt.show()"
   ]
  },
  {
   "cell_type": "markdown",
   "id": "a6d4552c",
   "metadata": {},
   "source": [
    "## 150 mV\n",
    "with FPA readout, $\\Delta \\Phi_{ext}/\\Phi_{0}$ = 0.1697"
   ]
  },
  {
   "cell_type": "code",
   "execution_count": null,
   "id": "d854e0af",
   "metadata": {},
   "outputs": [],
   "source": [
    "fid_ass_raw_static_150 = []\n",
    "fid_discr_static_150 = []\n",
    "int_times_static_150 = []\n",
    "\n",
    "for tuid in tuid_static_150:\n",
    "    fid_ass_raw_static_150.append(get_raw_ass_fidelity(tuid))\n",
    "    fid_discr_static_150.append(get_fid_discr(tuid))\n",
    "    int_times_static_150.append(get_integration_time(tuid)*10**(6))\n",
    "\n",
    "fid_ass_raw_fpa_150 = []\n",
    "fid_discr_fpa_150 = []\n",
    "int_times_fpa_150 = []\n",
    "\n",
    "for tuid in tuid_fpa_150:\n",
    "    fid_ass_raw_fpa_150.append(get_raw_ass_fidelity(tuid))\n",
    "    fid_discr_fpa_150.append(get_fid_discr(tuid))\n",
    "    int_times_fpa_150.append(get_integration_time(tuid)*10**(6))"
   ]
  },
  {
   "cell_type": "code",
   "execution_count": null,
   "id": "1cde85d0",
   "metadata": {},
   "outputs": [],
   "source": [
    "plt.xlabel('Integration Time (us)')\n",
    "plt.ylabel('Fidelity')\n",
    "plt.title('Readout Amplitude: 150 mV')\n",
    "plt.ylim(0.5, 1)\n",
    "plt.xlim(int_times_static_150[0], int_times_static_150[-1])\n",
    "plt.plot(int_times_static_150, fid_ass_raw_static_150, marker='o', linestyle=' ', color=cmap_green(0.6), label=r'$F_{assign}$, SS')\n",
    "plt.plot(int_times_fpa_150, fid_ass_raw_fpa_150, marker='o', linestyle=' ', color=cmap_green(0.8), label=r'$F_{assign}$, FPA')\n",
    "plt.plot(int_times_static_150, fid_discr_static_150, marker='P', linestyle=' ', color=cmap_green(0.6), label=r'$F_{SNR}$, SS')\n",
    "plt.plot(int_times_fpa_150, fid_discr_fpa_150, marker='P', linestyle=' ', color=cmap_green(0.8), label=r'$F_{SNR}$, FPA')\n",
    "plt.legend(loc='best', frameon=False)\n",
    "plt.show()"
   ]
  },
  {
   "cell_type": "markdown",
   "id": "f0e5aa45",
   "metadata": {},
   "source": [
    "## 200 mV\n",
    "with FPA readout, $\\Delta \\Phi_{ext}/\\Phi_{0}$ = 0.1723"
   ]
  },
  {
   "cell_type": "code",
   "execution_count": null,
   "id": "3804bf52",
   "metadata": {},
   "outputs": [],
   "source": [
    "fid_ass_raw_static_200 = []\n",
    "fid_discr_static_200 = []\n",
    "int_times_static_200 = []\n",
    "\n",
    "for tuid in tuid_static_200:\n",
    "    fid_ass_raw_static_200.append(get_raw_ass_fidelity(tuid))\n",
    "    fid_discr_static_200.append(get_fid_discr(tuid))\n",
    "    int_times_static_200.append(get_integration_time(tuid)*10**(6))\n",
    "\n",
    "fid_ass_raw_fpa_200 = []\n",
    "fid_discr_fpa_200 = []\n",
    "int_times_fpa_200 = []\n",
    "\n",
    "for tuid in tuid_fpa_200:\n",
    "    fid_ass_raw_fpa_200.append(get_raw_ass_fidelity(tuid))\n",
    "    fid_discr_fpa_200.append(get_fid_discr(tuid))\n",
    "    int_times_fpa_200.append(get_integration_time(tuid)*10**(6))"
   ]
  },
  {
   "cell_type": "code",
   "execution_count": null,
   "id": "3ba4792a",
   "metadata": {},
   "outputs": [],
   "source": [
    "plt.xlabel('Integration Time (us)')\n",
    "plt.ylabel('Fidelity')\n",
    "plt.title('Readout Amplitude: 200 mV')\n",
    "plt.ylim(0.5, 1)\n",
    "plt.xlim(int_times_static_200[0], int_times_static_200[-1])\n",
    "plt.plot(int_times_static_200, fid_ass_raw_static_200, marker='o', linestyle=' ', color=cmap_blue(0.6), label=r'$F_{assign}$, SS')\n",
    "plt.plot(int_times_fpa_200, fid_ass_raw_fpa_200, marker='o', linestyle=' ', color=cmap_blue(0.8), label=r'$F_{assign}$, FPA')\n",
    "plt.plot(int_times_static_200, fid_discr_static_200, marker='P', linestyle=' ', color=cmap_blue(0.6), label=r'$F_{SNR}$, SS')\n",
    "plt.plot(int_times_fpa_200, fid_discr_fpa_200, marker='P', linestyle=' ', color=cmap_blue(0.8), label=r'$F_{SNR}$, FPA')\n",
    "plt.legend(loc='best', frameon=False)\n",
    "plt.show()"
   ]
  },
  {
   "cell_type": "markdown",
   "id": "eec34969",
   "metadata": {},
   "source": [
    "## 300 mV\n",
    "with FPA readout, $\\Delta \\Phi_{ext}/\\Phi_{0}$ = 0.1593"
   ]
  },
  {
   "cell_type": "code",
   "execution_count": null,
   "id": "1c442f1e",
   "metadata": {},
   "outputs": [],
   "source": [
    "fid_ass_raw_static_300 = []\n",
    "fid_discr_static_300 = []\n",
    "int_times_static_300 = []\n",
    "\n",
    "for tuid in tuid_static_300:\n",
    "    fid_ass_raw_static_300.append(get_raw_ass_fidelity(tuid))\n",
    "    fid_discr_static_300.append(get_fid_discr(tuid))\n",
    "    int_times_static_300.append(get_integration_time(tuid)*10**(6))\n",
    "\n",
    "fid_ass_raw_fpa_300 = []\n",
    "fid_discr_fpa_300 = []\n",
    "int_times_fpa_300 = []\n",
    "\n",
    "for tuid in tuid_fpa_300:\n",
    "    fid_ass_raw_fpa_300.append(get_raw_ass_fidelity(tuid))\n",
    "    fid_discr_fpa_300.append(get_fid_discr(tuid))\n",
    "    int_times_fpa_300.append(get_integration_time(tuid)*10**(6))"
   ]
  },
  {
   "cell_type": "code",
   "execution_count": null,
   "id": "d60685f4",
   "metadata": {},
   "outputs": [],
   "source": [
    "plt.xlabel('Integration Time (us)')\n",
    "plt.ylabel('Fidelity')\n",
    "plt.title('Readout Amplitude: 300 mV')\n",
    "plt.ylim(0.5, 1)\n",
    "plt.xlim(int_times_static_300[0], int_times_static_300[-1])\n",
    "plt.plot(int_times_static_300, fid_ass_raw_static_300, marker='o', linestyle=' ', color=cmap_red(0.6), label=r'$F_{assign}$, SS')\n",
    "plt.plot(int_times_fpa_300, fid_ass_raw_fpa_300, marker='o', linestyle=' ', color=cmap_red(0.8), label=r'$F_{assign}$, FPA')\n",
    "plt.plot(int_times_static_300, fid_discr_static_300, marker='P', linestyle=' ', color=cmap_red(0.6), label=r'$F_{SNR}$, SS')\n",
    "plt.plot(int_times_fpa_300, fid_discr_fpa_300, marker='P', linestyle=' ', color=cmap_red(0.8), label=r'$F_{SNR}$, FPA')\n",
    "plt.legend(loc='best', frameon=False)\n",
    "plt.show()"
   ]
  },
  {
   "cell_type": "markdown",
   "id": "3e135f45",
   "metadata": {},
   "source": [
    "## 400 mV\n",
    "with FPA readout, $\\Delta \\Phi_{ext}/\\Phi_{0}$ = 0.1567"
   ]
  },
  {
   "cell_type": "code",
   "execution_count": null,
   "id": "c8a48373",
   "metadata": {},
   "outputs": [],
   "source": [
    "fid_ass_raw_static_400 = []\n",
    "fid_discr_static_400 = []\n",
    "int_times_static_400 = []\n",
    "\n",
    "for tuid in tuid_static_400:\n",
    "    fid_ass_raw_static_400.append(get_raw_ass_fidelity(tuid))\n",
    "    fid_discr_static_400.append(get_fid_discr(tuid))\n",
    "    int_times_static_400.append(get_integration_time(tuid)*10**(6))\n",
    "\n",
    "fid_ass_raw_fpa_400 = []\n",
    "fid_discr_fpa_400 = []\n",
    "int_times_fpa_400 = []\n",
    "\n",
    "for tuid in tuid_fpa_400:\n",
    "    fid_ass_raw_fpa_400.append(get_raw_ass_fidelity(tuid))\n",
    "    fid_discr_fpa_400.append(get_fid_discr(tuid))\n",
    "    int_times_fpa_400.append(get_integration_time(tuid)*10**(6))"
   ]
  },
  {
   "cell_type": "code",
   "execution_count": null,
   "id": "b8131870",
   "metadata": {},
   "outputs": [],
   "source": [
    "plt.xlabel('Integration Time (us)')\n",
    "plt.ylabel('Fidelity')\n",
    "plt.title('Readout Amplitude: 400 mV')\n",
    "plt.ylim(0.5, 1)\n",
    "plt.xlim(int_times_static_400[0], int_times_static_400[-1])\n",
    "plt.plot(int_times_static_400, fid_ass_raw_static_400, marker='o', linestyle=' ', color=cmap_orange(0.6), label=r'$F_{assign}$, SS')\n",
    "plt.plot(int_times_fpa_400, fid_ass_raw_fpa_400, marker='o', linestyle=' ', color=cmap_orange(0.8), label=r'$F_{assign}$, FPA')\n",
    "plt.plot(int_times_static_400, fid_discr_static_400, marker='P', linestyle=' ', color=cmap_orange(0.6), label=r'$F_{SNR}$, SS')\n",
    "plt.plot(int_times_fpa_400, fid_discr_fpa_400, marker='P', linestyle=' ', color=cmap_orange(0.8), label=r'$F_{SNR}$, FPA')\n",
    "plt.legend(loc='best', frameon=False)\n",
    "plt.show()"
   ]
  },
  {
   "cell_type": "markdown",
   "id": "2ab52bc1",
   "metadata": {},
   "source": [
    "# Fidelity vs Integration Time for $\\Delta \\Phi_{ext}/\\Phi_{0}$ = 0.1567\n",
    "integration times only up to 400 ns"
   ]
  },
  {
   "cell_type": "code",
   "execution_count": null,
   "id": "3910b90c",
   "metadata": {},
   "outputs": [],
   "source": [
    "tuid_static_100_short = get_tuids_containing('SSRO FX8', t_start='20231201-175030', t_stop='20231201-180335')\n",
    "tuid_fpa_100_short = get_tuids_containing('SSRO FX8', t_start='20231201-190020', t_stop='20231201-191329')\n",
    "\n",
    "tuid_static_150_short = get_tuids_containing('SSRO FX8', t_start='20231201-180353', t_stop='20231201-181625')\n",
    "tuid_fpa_150_short = get_tuids_containing('SSRO FX8', t_start='20231201-191358', t_stop='20231201-192628')\n",
    "\n",
    "tuid_static_200_short = get_tuids_containing('SSRO FX8', t_start='20231201-181655', t_stop='20231201-183247')\n",
    "tuid_fpa_200_short = get_tuids_containing('SSRO FX8', t_start='20231201-192705', t_stop='20231201-194046')\n",
    "\n",
    "tuid_static_300_short = get_tuids_containing('SSRO FX8', t_start='20231201-183330', t_stop='20231201-184617')\n",
    "tuid_fpa_300_short = get_tuids_containing('SSRO FX8', t_start='20231201-194103', t_stop='20231201-195726')\n",
    "\n",
    "tuid_static_400_short = get_tuids_containing('SSRO FX8', t_start='20231201-184646', t_stop='20231201-190000')\n",
    "tuid_fpa_400_short = get_tuids_containing('SSRO FX8', t_start='20231201-195756', t_stop='20231201-201211')"
   ]
  },
  {
   "cell_type": "markdown",
   "id": "f73623c6",
   "metadata": {},
   "source": [
    "## 100 mV"
   ]
  },
  {
   "cell_type": "code",
   "execution_count": null,
   "id": "82d9bb14",
   "metadata": {},
   "outputs": [],
   "source": [
    "fid_ass_raw_static_100_short = []\n",
    "int_times_static_100_short = []\n",
    "fid_discr_static_100_short = []\n",
    "\n",
    "for i in tuid_static_100_short:\n",
    "    fid_ass_raw_static_100_short.append(get_raw_ass_fidelity(i))\n",
    "    int_times_static_100_short.append(get_integration_time(i)*10**(9))\n",
    "    fid_discr_static_100_short.append(get_fid_discr(i))\n",
    "\n",
    "\n",
    "fid_ass_raw_fpa_100_short = []\n",
    "int_times_fpa_100_short = []\n",
    "fid_discr_fpa_100_short = []\n",
    "\n",
    "for i in tuid_fpa_100_short:\n",
    "    fid_ass_raw_fpa_100_short.append(get_raw_ass_fidelity(i))\n",
    "    int_times_fpa_100_short.append(get_integration_time(i)*10**(9))\n",
    "    fid_discr_fpa_100_short.append(get_fid_discr(i))"
   ]
  },
  {
   "cell_type": "code",
   "execution_count": null,
   "id": "d863cf65",
   "metadata": {},
   "outputs": [],
   "source": [
    "plt.xlabel('Integration Time (ns)')\n",
    "plt.ylabel('Fidelity')\n",
    "plt.title('Readout Amplitude: 100 mV')\n",
    "plt.ylim(0.5, 1)\n",
    "plt.xlim(int_times_static_100_short[0], int_times_static_100_short[-1])\n",
    "plt.plot(int_times_static_100_short, fid_ass_raw_static_100_short, marker='o', linestyle=' ', color=cmap_purple(0.6), label=r'$F_{assign}$, SS')\n",
    "plt.plot(int_times_fpa_100_short, fid_ass_raw_fpa_100_short, marker='o', linestyle=' ', color=cmap_purple(0.8), label=r'$F_{assign}$, FPA')\n",
    "plt.plot(int_times_static_100_short, fid_discr_static_100_short, marker='P', linestyle=' ', color=cmap_purple(0.6), label=r'$F_{SNR}$, SS')\n",
    "plt.plot(int_times_fpa_100_short, fid_discr_fpa_100_short, marker='P', linestyle=' ', color=cmap_purple(0.8), label=r'$F_{SNR}$, FPA')\n",
    "plt.legend(loc='best', frameon=False)\n",
    "plt.show()"
   ]
  },
  {
   "cell_type": "markdown",
   "id": "678e6089",
   "metadata": {},
   "source": [
    "## 150 mV"
   ]
  },
  {
   "cell_type": "code",
   "execution_count": null,
   "id": "5c6825fe",
   "metadata": {},
   "outputs": [],
   "source": [
    "fid_ass_raw_static_150_short = []\n",
    "int_times_static_150_short = []\n",
    "fid_discr_static_150_short = []\n",
    "\n",
    "for i in tuid_static_150_short:\n",
    "    fid_ass_raw_static_150_short.append(get_raw_ass_fidelity(i))\n",
    "    int_times_static_150_short.append(get_integration_time(i)*10**(9))\n",
    "    fid_discr_static_150_short.append(get_fid_discr(i))\n",
    "\n",
    "\n",
    "fid_ass_raw_fpa_150_short = []\n",
    "int_times_fpa_150_short = []\n",
    "fid_discr_fpa_150_short = []\n",
    "\n",
    "for i in tuid_fpa_150_short:\n",
    "    fid_ass_raw_fpa_150_short.append(get_raw_ass_fidelity(i))\n",
    "    int_times_fpa_150_short.append(get_integration_time(i)*10**(9))\n",
    "    fid_discr_fpa_150_short.append(get_fid_discr(i))"
   ]
  },
  {
   "cell_type": "code",
   "execution_count": null,
   "id": "ed21dafc",
   "metadata": {},
   "outputs": [],
   "source": [
    "plt.xlabel('Integration Time (ns)')\n",
    "plt.ylabel('Fidelity')\n",
    "plt.title('Readout Amplitude: 150 mV')\n",
    "plt.ylim(0.5, 1)\n",
    "plt.xlim(int_times_static_150_short[0], int_times_static_150_short[-1])\n",
    "plt.plot(int_times_static_150_short, fid_ass_raw_static_150_short, marker='o', linestyle=' ', color=cmap_green(0.6), label=r'$F_{assign}$, SS')\n",
    "plt.plot(int_times_fpa_150_short, fid_ass_raw_fpa_150_short, marker='o', linestyle=' ', color=cmap_green(0.8), label=r'$F_{assign}$, FPA')\n",
    "plt.plot(int_times_static_150_short, fid_discr_static_150_short, marker='P', linestyle=' ', color=cmap_green(0.6), label=r'$F_{SNR}$, SS')\n",
    "plt.plot(int_times_fpa_150_short, fid_discr_fpa_150_short, marker='P', linestyle=' ', color=cmap_green(0.8), label=r'$F_{SNR}$, FPA')\n",
    "plt.legend(loc='best', frameon=False)\n",
    "plt.show()"
   ]
  },
  {
   "cell_type": "markdown",
   "id": "8481fb41",
   "metadata": {},
   "source": [
    "## 200 mV"
   ]
  },
  {
   "cell_type": "code",
   "execution_count": null,
   "id": "6980222b",
   "metadata": {},
   "outputs": [],
   "source": [
    "fid_ass_raw_static_200_short = []\n",
    "int_times_static_200_short = []\n",
    "fid_discr_static_200_short = []\n",
    "\n",
    "for i in tuid_static_200_short:\n",
    "    try:\n",
    "        int_times_static_200_short.append(get_integration_time(i)*10**(9))\n",
    "        fid_ass_raw_static_200_short.append(get_raw_ass_fidelity(i))\n",
    "        fid_discr_static_200_short.append(get_fid_discr(i))\n",
    "    except:\n",
    "        print(tuid)\n",
    "\n",
    "\n",
    "fid_ass_raw_fpa_200_short = []\n",
    "int_times_fpa_200_short = []\n",
    "fid_discr_fpa_200_short = []\n",
    "\n",
    "for i in tuid_fpa_200_short:\n",
    "    fid_ass_raw_fpa_200_short.append(get_raw_ass_fidelity(i))\n",
    "    int_times_fpa_200_short.append(get_integration_time(i)*10**(9))\n",
    "    fid_discr_fpa_200_short.append(get_fid_discr(i))"
   ]
  },
  {
   "cell_type": "code",
   "execution_count": null,
   "id": "b0fd7c79",
   "metadata": {},
   "outputs": [],
   "source": [
    "plt.xlabel('Integration Time (ns)')\n",
    "plt.ylabel('Fidelity')\n",
    "plt.title('Readout Amplitude: 200 mV')\n",
    "plt.ylim(0.5, 1)\n",
    "plt.xlim(int_times_static_200_short[0], int_times_static_200_short[-1])\n",
    "plt.plot(int_times_static_200_short, fid_ass_raw_static_200_short, marker='o', linestyle=' ', color=cmap_blue(0.6), label=r'$F_{assign}$, SS')\n",
    "plt.plot(int_times_fpa_200_short, fid_ass_raw_fpa_200_short, marker='o', linestyle=' ', color=cmap_blue(0.8), label=r'$F_{assign}$, FPA')\n",
    "plt.plot(int_times_static_200_short, fid_discr_static_200_short, marker='P', linestyle=' ', color=cmap_blue(0.6), label=r'$F_{SNR}$, SS')\n",
    "plt.plot(int_times_fpa_200_short, fid_discr_fpa_200_short, marker='P', linestyle=' ', color=cmap_blue(0.8), label=r'$F_{SNR}$, FPA')\n",
    "plt.legend(loc='best', frameon=False)\n",
    "plt.show()"
   ]
  },
  {
   "cell_type": "markdown",
   "id": "6abe284c",
   "metadata": {},
   "source": [
    "## 300 mV"
   ]
  },
  {
   "cell_type": "code",
   "execution_count": null,
   "id": "92d30d3d",
   "metadata": {},
   "outputs": [],
   "source": [
    "fid_ass_raw_static_300_short = []\n",
    "int_times_static_300_short = []\n",
    "fid_discr_static_300_short = []\n",
    "\n",
    "for i in tuid_static_300_short:\n",
    "    fid_ass_raw_static_300_short.append(get_raw_ass_fidelity(i))\n",
    "    int_times_static_300_short.append(get_integration_time(i)*10**(9))\n",
    "    fid_discr_static_300_short.append(get_fid_discr(i))\n",
    "\n",
    "\n",
    "fid_ass_raw_fpa_300_short = []\n",
    "int_times_fpa_300_short = []\n",
    "fid_discr_fpa_300_short = []\n",
    "\n",
    "for i in tuid_fpa_300_short:\n",
    "    fid_ass_raw_fpa_300_short.append(get_raw_ass_fidelity(i))\n",
    "    int_times_fpa_300_short.append(get_integration_time(i)*10**(9))\n",
    "    fid_discr_fpa_300_short.append(get_fid_discr(i))"
   ]
  },
  {
   "cell_type": "code",
   "execution_count": null,
   "id": "6d13a411",
   "metadata": {},
   "outputs": [],
   "source": [
    "plt.xlabel('Integration Time (ns)')\n",
    "plt.ylabel('Fidelity')\n",
    "plt.title('Readout Amplitude: 300 mV')\n",
    "plt.ylim(0.5, 1)\n",
    "plt.xlim(int_times_static_300_short[0], int_times_static_300_short[-1])\n",
    "plt.plot(int_times_static_300_short, fid_ass_raw_static_300_short, marker='o', linestyle=' ', color=cmap_red(0.6), label=r'$F_{assign}$, SS')\n",
    "plt.plot(int_times_fpa_300_short, fid_ass_raw_fpa_300_short, marker='o', linestyle=' ', color=cmap_red(0.8), label=r'$F_{assign}$, FPA')\n",
    "plt.plot(int_times_static_300_short, fid_discr_static_300_short, marker='P', linestyle=' ', color=cmap_red(0.6), label=r'$F_{SNR}$, SS')\n",
    "plt.plot(int_times_fpa_300_short, fid_discr_fpa_300_short, marker='P', linestyle=' ', color=cmap_red(0.8), label=r'$F_{SNR}$, FPA')\n",
    "plt.legend(loc='best', frameon=False)\n",
    "plt.show()"
   ]
  },
  {
   "cell_type": "markdown",
   "id": "ae09e7a2",
   "metadata": {},
   "source": [
    "## 400 mV"
   ]
  },
  {
   "cell_type": "code",
   "execution_count": null,
   "id": "1c779cfb",
   "metadata": {},
   "outputs": [],
   "source": [
    "fid_ass_raw_static_400_short = []\n",
    "int_times_static_400_short = []\n",
    "fid_discr_static_400_short = []\n",
    "\n",
    "for i in tuid_static_400_short:\n",
    "    try:\n",
    "        int_times_static_400_short.append(get_integration_time(i)*10**(9))\n",
    "        fid_ass_raw_static_400_short.append(get_raw_ass_fidelity(i))\n",
    "        fid_discr_static_400_short.append(get_fid_discr(i))\n",
    "    except:\n",
    "        print(i)\n",
    "\n",
    "fid_ass_raw_fpa_400_short = []\n",
    "int_times_fpa_400_short = []\n",
    "fid_discr_fpa_400_short = []\n",
    "\n",
    "for i in tuid_fpa_400_short:\n",
    "    fid_ass_raw_fpa_400_short.append(get_raw_ass_fidelity(i))\n",
    "    int_times_fpa_400_short.append(get_integration_time(i)*10**(9))\n",
    "    fid_discr_fpa_400_short.append(get_fid_discr(i))"
   ]
  },
  {
   "cell_type": "code",
   "execution_count": null,
   "id": "fc2c86dd",
   "metadata": {},
   "outputs": [],
   "source": [
    "plt.xlabel('Integration Time (us)')\n",
    "plt.ylabel('Fidelity')\n",
    "plt.title('Readout Amplitude: 400 mV')\n",
    "plt.ylim(0.5, 1)\n",
    "plt.xlim(int_times_static_400_short[0], int_times_static_400_short[-1])\n",
    "plt.plot(int_times_static_400_short, fid_ass_raw_static_400_short, marker='o', linestyle=' ', color=cmap_orange(0.6), label=r'$F_{assign}$, SS')\n",
    "plt.plot(int_times_fpa_400_short, fid_ass_raw_fpa_400_short, marker='o', linestyle=' ', color=cmap_orange(0.8), label=r'$F_{assign}$, FPA')\n",
    "plt.plot(int_times_static_400_short, fid_discr_static_400_short, marker='P', linestyle=' ', color=cmap_orange(0.6), label=r'$F_{SNR}$, SS')\n",
    "plt.plot(int_times_fpa_400_short, fid_discr_fpa_400_short, marker='P', linestyle=' ', color=cmap_orange(0.8), label=r'$F_{SNR}$, FPA')\n",
    "plt.legend(loc='best', frameon=False)\n",
    "plt.show()"
   ]
  },
  {
   "cell_type": "code",
   "execution_count": null,
   "id": "ed7fa4d3",
   "metadata": {},
   "outputs": [],
   "source": [
    "snr_paperdef_static_400_short = []\n",
    "error_paperdef_static_400_short = []\n",
    "\n",
    "for i in tuid_static_400_short:\n",
    "    try:\n",
    "        _snr, _error = get_paperdef_snr_error(i)\n",
    "        snr_paperdef_static_400_short.append(_snr)\n",
    "        error_paperdef_static_400_short.append(_error)\n",
    "    except:\n",
    "        print(i)\n",
    "\n",
    "snr_paperdef_fpa_400_short = []\n",
    "error_paperdef_fpa_400_short = []\n",
    "\n",
    "for i in tuid_fpa_400_short:\n",
    "    _snr, _error = get_paperdef_snr_error(i)\n",
    "    snr_paperdef_fpa_400_short.append(_snr)\n",
    "    error_paperdef_fpa_400_short.append(_error)"
   ]
  },
  {
   "cell_type": "code",
   "execution_count": null,
   "id": "0b158e36",
   "metadata": {},
   "outputs": [],
   "source": [
    "font = {'size'   : 16}\n",
    "\n",
    "mpl.rc('font', **font)\n",
    "\n",
    "plt.xlabel('Integration Time (ns)')\n",
    "plt.ylabel('SNR Limited Error')\n",
    "plt.xlim(100, 360)\n",
    "plt.yscale('log')\n",
    "plt.ylim(0.0005,1)\n",
    "raw_static = plt.plot(int_times_static_400_short, 1-np.array(fid_ass_raw_static_400_short), marker='.', markersize=10, linestyle=' ', color=cmap_red(0.6), label=r'$F_{assign}$, SS')\n",
    "raw_fpa = plt.plot(int_times_fpa_400_short, 1-np.array(fid_ass_raw_fpa_400_short), marker='.', markersize=10, linestyle=' ', color=cmap_blue(0.7), label=r'$F_{assign}$, FPA')\n",
    "snr_lim_static = plt.plot(int_times_static_400_short, error_paperdef_static_400_short, marker='P', linestyle=' ', color=cmap_red(0.8), label=r'$F_{SNR}$, SS')\n",
    "snr_lim_fpa = plt.plot(int_times_fpa_400_short, error_paperdef_fpa_400_short, marker='P', linestyle=' ', color=cmap_blue(0.9), label=r'$F_{SNR}$, SS')\n",
    "plt.annotate('RO Amplitude: 400 mV', xy=(0.47, 0.92), xycoords='axes fraction')\n",
    "plt.legend()\n",
    "plt.show()"
   ]
  },
  {
   "cell_type": "code",
   "execution_count": null,
   "id": "62ce8099",
   "metadata": {
    "scrolled": true
   },
   "outputs": [],
   "source": [
    "fig, ax = plt.subplots(ncols=1, nrows=1, dpi=250)\n",
    "\n",
    "fig.subplots_adjust(bottom = 0.16, top=0.99, left=0.19, right=0.9, wspace=0.4, hspace=0.3)\n",
    "\n",
    "fig.set_size_inches(7/2, 2)\n",
    "ax1 = ax\n",
    "\n",
    "tick_fs = 9\n",
    "label_fs = 10\n",
    "lw = 1.5\n",
    "\n",
    "\n",
    "raw_static, = ax1.plot(int_times_static_400_short, 1-np.array(fid_ass_raw_static_400_short), color=cmap_red(0.7), linestyle='', marker='.', markersize=6, label=r'SS, Assign.(raw)')\n",
    "raw_fpa, = ax1.plot(int_times_fpa_400_short, 1-np.array(fid_ass_raw_fpa_400_short), color=cmap_blue(0.7), linestyle='', marker='.', markersize=6, label=r'FPA, Assign.(raw)')\n",
    "snr_lim_static, = ax1.plot(int_times_static_400_short, error_paperdef_static_400_short, color=cmap_red(0.9), linestyle='', marker='+', markersize=6, label=r'SS, SNR-limited')\n",
    "snr_lim_fpa, = ax1.plot(int_times_fpa_400_short, error_paperdef_fpa_400_short, color=cmap_blue(0.9), linestyle='', marker='+', markersize=6, label=r'FPA, SNR-limited')\n",
    "ax1.tick_params(axis='y', pad=3, labelsize=tick_fs)\n",
    "ax1.tick_params(axis='x', pad=3, labelsize=tick_fs)\n",
    "ax1.set_yscale('log')\n",
    "ax1.set_xlim(100, 360)\n",
    "ax1.set_ylim(0.0005, 1)\n",
    "ax1.set_xlabel('Integration Time (ns)', fontsize=label_fs)\n",
    "ax1.set_ylabel('Readout Error', fontsize=label_fs, labelpad=2)\n",
    "ax1.legend(handletextpad=0.25, frameon=False, handlelength = 1.0, fontsize = tick_fs, labelspacing=0.3, \n",
    "               loc='lower left', bbox_to_anchor=(-0.03, -0.05))"
   ]
  },
  {
   "cell_type": "code",
   "execution_count": null,
   "id": "c1d9b4a5",
   "metadata": {},
   "outputs": [],
   "source": [
    "freq_static = []\n",
    "freq_fpa = []\n",
    "\n",
    "for i in tuid_static_400_short:\n",
    "    f = get_RO_freq(i)\n",
    "    freq_static.append(f)\n",
    "    \n",
    "for i in tuid_fpa_400_short:\n",
    "    f = get_RO_freq(i)\n",
    "    freq_fpa.append(f)"
   ]
  },
  {
   "cell_type": "code",
   "execution_count": null,
   "id": "ff4a0f9b",
   "metadata": {},
   "outputs": [],
   "source": [
    "import pandas as pd\n",
    "data = {'RawErrorSS': 1-np.array(fid_ass_raw_static_400_short),\n",
    "        'RawErrorFPA': 1-np.array(fid_ass_raw_fpa_400_short),\n",
    "        'DiscrErrorSS': error_paperdef_static_400_short,\n",
    "        'DiscrErrorFPA': error_paperdef_fpa_400_short,\n",
    "        'TimesSS': int_times_static_400_short,\n",
    "        'TimesFPA': int_times_fpa_400_short,\n",
    "        'ROFreqSS': freq_static,\n",
    "        'ROFreqFPA': freq_fpa,}\n",
    "\n",
    "# df = pd.DataFrame.from_dict(data, orient='index')\n",
    "# df = df.transpose()\n",
    "# df.to_csv('bestRO.csv')"
   ]
  }
 ],
 "metadata": {
  "kernelspec": {
   "display_name": "Python 3 (ipykernel)",
   "language": "python",
   "name": "python3"
  },
  "language_info": {
   "codemirror_mode": {
    "name": "ipython",
    "version": 3
   },
   "file_extension": ".py",
   "mimetype": "text/x-python",
   "name": "python",
   "nbconvert_exporter": "python",
   "pygments_lexer": "ipython3",
   "version": "3.8.8"
  },
  "toc": {
   "base_numbering": 1,
   "nav_menu": {},
   "number_sections": true,
   "sideBar": true,
   "skip_h1_title": false,
   "title_cell": "Table of Contents",
   "title_sidebar": "Contents",
   "toc_cell": false,
   "toc_position": {
    "height": "calc(100% - 180px)",
    "left": "10px",
    "top": "150px",
    "width": "384px"
   },
   "toc_section_display": true,
   "toc_window_display": true
  }
 },
 "nbformat": 4,
 "nbformat_minor": 5
}
